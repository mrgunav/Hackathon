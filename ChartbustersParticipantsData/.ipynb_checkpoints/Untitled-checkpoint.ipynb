{
 "cells": [
  {
   "cell_type": "code",
   "execution_count": 2,
   "metadata": {},
   "outputs": [],
   "source": [
    "import re\n",
    "import numbers"
   ]
  },
  {
   "cell_type": "code",
   "execution_count": 3,
   "metadata": {},
   "outputs": [],
   "source": [
    "def strToInt(val):\n",
    "    chk = replaceUnit(val)\n",
    "    conStr = re.sub(r'[^0-9]+', '', chk);\n",
    "    return int(conStr)"
   ]
  },
  {
   "cell_type": "code",
   "execution_count": 4,
   "metadata": {},
   "outputs": [],
   "source": [
    "def replaceUnit(val):\n",
    "    if(val.find('K') != -1):\n",
    "        return val.replace('K', ('000' if val.find('.') == -1 else '00');\n",
    "    elif(val.find('M') != -1):\n",
    "        return val.replace('M','000000' if val.find('.') == -1 else '00000');\n",
    "    else:\n",
    "        return val"
   ]
  },
  {
   "cell_type": "code",
   "execution_count": 6,
   "metadata": {},
   "outputs": [
    {
     "name": "stdout",
     "output_type": "stream",
     "text": [
      "1\n",
      "1000\n",
      "1500\n",
      "15100\n",
      "1000000\n",
      "3200\n"
     ]
    }
   ],
   "source": [
    "inp = [1,'1K','1.5K','15.1K','1M','3,200'];\n",
    "for i in inp:\n",
    "    if(isinstance(i, numbers.Number) != True):\n",
    "        print(strToInt(i));\n",
    "    else:\n",
    "        print(i);"
   ]
  },
  {
   "cell_type": "code",
   "execution_count": null,
   "metadata": {},
   "outputs": [],
   "source": []
  },
  {
   "cell_type": "code",
   "execution_count": null,
   "metadata": {},
   "outputs": [],
   "source": []
  }
 ],
 "metadata": {
  "kernelspec": {
   "display_name": "Python 3",
   "language": "python",
   "name": "python3"
  },
  "language_info": {
   "codemirror_mode": {
    "name": "ipython",
    "version": 3
   },
   "file_extension": ".py",
   "mimetype": "text/x-python",
   "name": "python",
   "nbconvert_exporter": "python",
   "pygments_lexer": "ipython3",
   "version": "3.7.3"
  }
 },
 "nbformat": 4,
 "nbformat_minor": 2
}
