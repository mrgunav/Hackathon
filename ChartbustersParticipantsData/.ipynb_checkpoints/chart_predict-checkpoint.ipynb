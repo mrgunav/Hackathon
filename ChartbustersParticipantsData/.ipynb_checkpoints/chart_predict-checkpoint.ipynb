{
 "cells": [
  {
   "cell_type": "code",
   "execution_count": 1,
   "metadata": {},
   "outputs": [],
   "source": [
    "import pandas as pd\n",
    "import numpy as np\n",
    "import pandas_profiling\n",
    "from datetime import datetime\n",
    "import re\n",
    "import numbers\n",
    "\n",
    "from sklearn.model_selection import train_test_split, GridSearchCV, RandomizedSearchCV\n",
    "from sklearn.linear_model import LinearRegression , Lasso , Ridge, ElasticNet, SGDRegressor\n",
    "from sklearn.preprocessing import PolynomialFeatures\n",
    "from sklearn.svm import SVR , LinearSVR\n",
    "from sklearn import metrics\n",
    "from sklearn.metrics import mean_squared_error, r2_score\n",
    "from sklearn.tree import DecisionTreeRegressor\n",
    "import statsmodels.api as sm\n",
    "from sklearn.ensemble import RandomForestRegressor, AdaBoostRegressor, GradientBoostingRegressor, VotingRegressor\n",
    "\n",
    "%matplotlib inline\n",
    "import matplotlib.pyplot as plt \n",
    "plt.rc(\"font\", size=14)\n",
    "import seaborn as sns\n",
    "sns.set(style=\"white\")\n",
    "sns.set(style=\"whitegrid\", color_codes=True)\n",
    "\n",
    "import warnings\n",
    "warnings.filterwarnings(\"ignore\")"
   ]
  },
  {
   "cell_type": "code",
   "execution_count": 2,
   "metadata": {},
   "outputs": [
    {
     "name": "stdout",
     "output_type": "stream",
     "text": [
      "org_train (78458, 11)\n",
      "org_test (19615, 10)\n"
     ]
    }
   ],
   "source": [
    "org_train = pd.read_csv('Data_Train.csv');\n",
    "org_test = pd.read_csv('Data_Test.csv');\n",
    "print('org_train',org_train.shape);\n",
    "print('org_test',org_test.shape);"
   ]
  },
  {
   "cell_type": "code",
   "execution_count": 3,
   "metadata": {},
   "outputs": [
    {
     "data": {
      "text/html": [
       "<div>\n",
       "<style scoped>\n",
       "    .dataframe tbody tr th:only-of-type {\n",
       "        vertical-align: middle;\n",
       "    }\n",
       "\n",
       "    .dataframe tbody tr th {\n",
       "        vertical-align: top;\n",
       "    }\n",
       "\n",
       "    .dataframe thead th {\n",
       "        text-align: right;\n",
       "    }\n",
       "</style>\n",
       "<table border=\"1\" class=\"dataframe\">\n",
       "  <thead>\n",
       "    <tr style=\"text-align: right;\">\n",
       "      <th></th>\n",
       "      <th>Unique_ID</th>\n",
       "      <th>Name</th>\n",
       "      <th>Genre</th>\n",
       "      <th>Country</th>\n",
       "      <th>Song_Name</th>\n",
       "      <th>Timestamp</th>\n",
       "      <th>Views</th>\n",
       "      <th>Comments</th>\n",
       "      <th>Likes</th>\n",
       "      <th>Popularity</th>\n",
       "      <th>Followers</th>\n",
       "    </tr>\n",
       "  </thead>\n",
       "  <tbody>\n",
       "    <tr>\n",
       "      <th>0</th>\n",
       "      <td>413890</td>\n",
       "      <td>Hardstyle</td>\n",
       "      <td>danceedm</td>\n",
       "      <td>AU</td>\n",
       "      <td>N-Vitral presents BOMBSQUAD - Poison Spitter (...</td>\n",
       "      <td>2018-03-30 15:24:45.000000</td>\n",
       "      <td>14017</td>\n",
       "      <td>4</td>\n",
       "      <td>499</td>\n",
       "      <td>97</td>\n",
       "      <td>119563</td>\n",
       "    </tr>\n",
       "    <tr>\n",
       "      <th>1</th>\n",
       "      <td>249453</td>\n",
       "      <td>Dj Aladdin</td>\n",
       "      <td>danceedm</td>\n",
       "      <td>AU</td>\n",
       "      <td>Dj Aladdin - Old School Hip Hop Quick Mix</td>\n",
       "      <td>2016-06-20 05:58:52.000000</td>\n",
       "      <td>1918</td>\n",
       "      <td>17</td>\n",
       "      <td>49</td>\n",
       "      <td>17</td>\n",
       "      <td>2141</td>\n",
       "    </tr>\n",
       "    <tr>\n",
       "      <th>2</th>\n",
       "      <td>681116</td>\n",
       "      <td>Maxximize On Air</td>\n",
       "      <td>danceedm</td>\n",
       "      <td>AU</td>\n",
       "      <td>Maxximize On Air - Mixed by Blasterjaxx - Epis...</td>\n",
       "      <td>2015-05-08 17:45:59.000000</td>\n",
       "      <td>9668</td>\n",
       "      <td>11</td>\n",
       "      <td>312</td>\n",
       "      <td>91</td>\n",
       "      <td>22248</td>\n",
       "    </tr>\n",
       "    <tr>\n",
       "      <th>3</th>\n",
       "      <td>387253</td>\n",
       "      <td>GR6 EXPLODE</td>\n",
       "      <td>rbsoul</td>\n",
       "      <td>AU</td>\n",
       "      <td>MC Yago - Tenho Compromisso (DJ R7)</td>\n",
       "      <td>2017-06-08 23:50:03.000000</td>\n",
       "      <td>113036</td>\n",
       "      <td>2</td>\n",
       "      <td>2,400</td>\n",
       "      <td>76</td>\n",
       "      <td>393655</td>\n",
       "    </tr>\n",
       "    <tr>\n",
       "      <th>4</th>\n",
       "      <td>1428029</td>\n",
       "      <td>Tritonal</td>\n",
       "      <td>danceedm</td>\n",
       "      <td>AU</td>\n",
       "      <td>Escape (feat. Steph Jones)</td>\n",
       "      <td>2016-09-17 20:50:19.000000</td>\n",
       "      <td>110024</td>\n",
       "      <td>81</td>\n",
       "      <td>3,031</td>\n",
       "      <td>699</td>\n",
       "      <td>201030</td>\n",
       "    </tr>\n",
       "  </tbody>\n",
       "</table>\n",
       "</div>"
      ],
      "text/plain": [
       "   Unique_ID              Name     Genre Country  \\\n",
       "0     413890         Hardstyle  danceedm      AU   \n",
       "1     249453        Dj Aladdin  danceedm      AU   \n",
       "2     681116  Maxximize On Air  danceedm      AU   \n",
       "3     387253       GR6 EXPLODE    rbsoul      AU   \n",
       "4    1428029          Tritonal  danceedm      AU   \n",
       "\n",
       "                                           Song_Name  \\\n",
       "0  N-Vitral presents BOMBSQUAD - Poison Spitter (...   \n",
       "1          Dj Aladdin - Old School Hip Hop Quick Mix   \n",
       "2  Maxximize On Air - Mixed by Blasterjaxx - Epis...   \n",
       "3                MC Yago - Tenho Compromisso (DJ R7)   \n",
       "4                         Escape (feat. Steph Jones)   \n",
       "\n",
       "                    Timestamp   Views  Comments  Likes Popularity  Followers  \n",
       "0  2018-03-30 15:24:45.000000   14017         4    499         97     119563  \n",
       "1  2016-06-20 05:58:52.000000    1918        17     49         17       2141  \n",
       "2  2015-05-08 17:45:59.000000    9668        11    312         91      22248  \n",
       "3  2017-06-08 23:50:03.000000  113036         2  2,400         76     393655  \n",
       "4  2016-09-17 20:50:19.000000  110024        81  3,031        699     201030  "
      ]
     },
     "execution_count": 3,
     "metadata": {},
     "output_type": "execute_result"
    }
   ],
   "source": [
    "org_train.head(5)"
   ]
  },
  {
   "cell_type": "code",
   "execution_count": 4,
   "metadata": {},
   "outputs": [
    {
     "data": {
      "text/html": [
       "<div>\n",
       "<style scoped>\n",
       "    .dataframe tbody tr th:only-of-type {\n",
       "        vertical-align: middle;\n",
       "    }\n",
       "\n",
       "    .dataframe tbody tr th {\n",
       "        vertical-align: top;\n",
       "    }\n",
       "\n",
       "    .dataframe thead th {\n",
       "        text-align: right;\n",
       "    }\n",
       "</style>\n",
       "<table border=\"1\" class=\"dataframe\">\n",
       "  <thead>\n",
       "    <tr style=\"text-align: right;\">\n",
       "      <th></th>\n",
       "      <th>Unique_ID</th>\n",
       "      <th>Name</th>\n",
       "      <th>Genre</th>\n",
       "      <th>Country</th>\n",
       "      <th>Song_Name</th>\n",
       "      <th>Timestamp</th>\n",
       "      <th>Comments</th>\n",
       "      <th>Likes</th>\n",
       "      <th>Popularity</th>\n",
       "      <th>Followers</th>\n",
       "    </tr>\n",
       "  </thead>\n",
       "  <tbody>\n",
       "    <tr>\n",
       "      <th>0</th>\n",
       "      <td>562546</td>\n",
       "      <td>L2Share♫79</td>\n",
       "      <td>all-music</td>\n",
       "      <td>AU</td>\n",
       "      <td>엔플라잉 N.Flying - Rooftop (옥탑방)</td>\n",
       "      <td>2019-01-02 09:49:19.000000</td>\n",
       "      <td>26</td>\n",
       "      <td>5,428</td>\n",
       "      <td>118</td>\n",
       "      <td>2568</td>\n",
       "    </tr>\n",
       "    <tr>\n",
       "      <th>1</th>\n",
       "      <td>907584</td>\n",
       "      <td>Morgan Page</td>\n",
       "      <td>danceedm</td>\n",
       "      <td>AU</td>\n",
       "      <td>Morgan Page - In The Air - Episode 246</td>\n",
       "      <td>2015-03-09 17:30:10.000000</td>\n",
       "      <td>18</td>\n",
       "      <td>738</td>\n",
       "      <td>195</td>\n",
       "      <td>155645</td>\n",
       "    </tr>\n",
       "    <tr>\n",
       "      <th>2</th>\n",
       "      <td>213013</td>\n",
       "      <td>Dirty Workz</td>\n",
       "      <td>danceedm</td>\n",
       "      <td>AU</td>\n",
       "      <td>Outlander - Devotion (Official HQ Preview)</td>\n",
       "      <td>2013-09-18 16:09:03.000000</td>\n",
       "      <td>18</td>\n",
       "      <td>386</td>\n",
       "      <td>96</td>\n",
       "      <td>29446</td>\n",
       "    </tr>\n",
       "    <tr>\n",
       "      <th>3</th>\n",
       "      <td>340312</td>\n",
       "      <td>Gucci Mane</td>\n",
       "      <td>all-music</td>\n",
       "      <td>AU</td>\n",
       "      <td>Freaky Gurl</td>\n",
       "      <td>2007-08-14 00:00:00.000000</td>\n",
       "      <td>1</td>\n",
       "      <td>388</td>\n",
       "      <td>19</td>\n",
       "      <td>799410</td>\n",
       "    </tr>\n",
       "    <tr>\n",
       "      <th>4</th>\n",
       "      <td>41854</td>\n",
       "      <td>Angga Kecap</td>\n",
       "      <td>rock</td>\n",
       "      <td>AU</td>\n",
       "      <td>Radical Nusantara - Teman</td>\n",
       "      <td>2018-08-10 16:28:54.000000</td>\n",
       "      <td>0</td>\n",
       "      <td>79</td>\n",
       "      <td>1</td>\n",
       "      <td>2</td>\n",
       "    </tr>\n",
       "  </tbody>\n",
       "</table>\n",
       "</div>"
      ],
      "text/plain": [
       "   Unique_ID         Name      Genre Country  \\\n",
       "0     562546   L2Share♫79  all-music      AU   \n",
       "1     907584  Morgan Page   danceedm      AU   \n",
       "2     213013  Dirty Workz   danceedm      AU   \n",
       "3     340312   Gucci Mane  all-music      AU   \n",
       "4      41854  Angga Kecap       rock      AU   \n",
       "\n",
       "                                    Song_Name                   Timestamp  \\\n",
       "0               엔플라잉 N.Flying - Rooftop (옥탑방)  2019-01-02 09:49:19.000000   \n",
       "1      Morgan Page - In The Air - Episode 246  2015-03-09 17:30:10.000000   \n",
       "2  Outlander - Devotion (Official HQ Preview)  2013-09-18 16:09:03.000000   \n",
       "3                                 Freaky Gurl  2007-08-14 00:00:00.000000   \n",
       "4                   Radical Nusantara - Teman  2018-08-10 16:28:54.000000   \n",
       "\n",
       "   Comments  Likes Popularity  Followers  \n",
       "0        26  5,428        118       2568  \n",
       "1        18    738        195     155645  \n",
       "2        18    386         96      29446  \n",
       "3         1    388         19     799410  \n",
       "4         0     79          1          2  "
      ]
     },
     "execution_count": 4,
     "metadata": {},
     "output_type": "execute_result"
    }
   ],
   "source": [
    "org_test.head(5)"
   ]
  },
  {
   "cell_type": "code",
   "execution_count": 5,
   "metadata": {},
   "outputs": [],
   "source": [
    "#org_test['Views'] = np.nan;"
   ]
  },
  {
   "cell_type": "code",
   "execution_count": 6,
   "metadata": {},
   "outputs": [],
   "source": [
    "org_data = pd.concat([org_train,org_test],axis='rows',sort=False)"
   ]
  },
  {
   "cell_type": "code",
   "execution_count": 7,
   "metadata": {},
   "outputs": [
    {
     "data": {
      "text/plain": [
       "(98073, 11)"
      ]
     },
     "execution_count": 7,
     "metadata": {},
     "output_type": "execute_result"
    }
   ],
   "source": [
    "org_data.shape"
   ]
  },
  {
   "cell_type": "code",
   "execution_count": 8,
   "metadata": {},
   "outputs": [
    {
     "data": {
      "text/plain": [
       "0"
      ]
     },
     "execution_count": 8,
     "metadata": {},
     "output_type": "execute_result"
    }
   ],
   "source": [
    "org_data.duplicated().sum()"
   ]
  },
  {
   "cell_type": "code",
   "execution_count": 9,
   "metadata": {},
   "outputs": [
    {
     "data": {
      "text/plain": [
       "Index(['Unique_ID', 'Name', 'Genre', 'Country', 'Song_Name', 'Timestamp',\n",
       "       'Views', 'Comments', 'Likes', 'Popularity', 'Followers'],\n",
       "      dtype='object')"
      ]
     },
     "execution_count": 9,
     "metadata": {},
     "output_type": "execute_result"
    }
   ],
   "source": [
    "org_data.columns"
   ]
  },
  {
   "cell_type": "code",
   "execution_count": 10,
   "metadata": {},
   "outputs": [
    {
     "data": {
      "text/html": [
       "<div>\n",
       "<style scoped>\n",
       "    .dataframe tbody tr th:only-of-type {\n",
       "        vertical-align: middle;\n",
       "    }\n",
       "\n",
       "    .dataframe tbody tr th {\n",
       "        vertical-align: top;\n",
       "    }\n",
       "\n",
       "    .dataframe thead th {\n",
       "        text-align: right;\n",
       "    }\n",
       "</style>\n",
       "<table border=\"1\" class=\"dataframe\">\n",
       "  <thead>\n",
       "    <tr style=\"text-align: right;\">\n",
       "      <th></th>\n",
       "      <th>Unique_ID</th>\n",
       "      <th>Name</th>\n",
       "      <th>Genre</th>\n",
       "      <th>Country</th>\n",
       "      <th>Song_Name</th>\n",
       "      <th>Timestamp</th>\n",
       "      <th>Views</th>\n",
       "      <th>Comments</th>\n",
       "      <th>Likes</th>\n",
       "      <th>Popularity</th>\n",
       "      <th>Followers</th>\n",
       "    </tr>\n",
       "  </thead>\n",
       "  <tbody>\n",
       "    <tr>\n",
       "      <th>19605</th>\n",
       "      <td>1251032</td>\n",
       "      <td>Selador Recordings</td>\n",
       "      <td>electronic</td>\n",
       "      <td>AU</td>\n",
       "      <td>D - Nox &amp; Beckers - Salt (Third Son Remix) **P...</td>\n",
       "      <td>2016-06-16 10:28:59.000000</td>\n",
       "      <td>NaN</td>\n",
       "      <td>3</td>\n",
       "      <td>65</td>\n",
       "      <td>8</td>\n",
       "      <td>13397</td>\n",
       "    </tr>\n",
       "    <tr>\n",
       "      <th>19606</th>\n",
       "      <td>971579</td>\n",
       "      <td>Night Lovell</td>\n",
       "      <td>all-music</td>\n",
       "      <td>AU</td>\n",
       "      <td>WATCH ME</td>\n",
       "      <td>2019-02-22 15:53:42.000000</td>\n",
       "      <td>NaN</td>\n",
       "      <td>18</td>\n",
       "      <td>1,690</td>\n",
       "      <td>109</td>\n",
       "      <td>278627</td>\n",
       "    </tr>\n",
       "    <tr>\n",
       "      <th>19607</th>\n",
       "      <td>386716</td>\n",
       "      <td>GR6 EXPLODE</td>\n",
       "      <td>rbsoul</td>\n",
       "      <td>AU</td>\n",
       "      <td>MC Mingau - Joga a Rabeta Pra Nois (DJ Helbert...</td>\n",
       "      <td>2017-12-12 17:10:27.000000</td>\n",
       "      <td>NaN</td>\n",
       "      <td>1</td>\n",
       "      <td>610</td>\n",
       "      <td>27</td>\n",
       "      <td>393655</td>\n",
       "    </tr>\n",
       "    <tr>\n",
       "      <th>19608</th>\n",
       "      <td>982417</td>\n",
       "      <td>NO1 | NOAH</td>\n",
       "      <td>rbsoul</td>\n",
       "      <td>AU</td>\n",
       "      <td>Ice Me Out</td>\n",
       "      <td>2018-05-18 01:30:02.000000</td>\n",
       "      <td>NaN</td>\n",
       "      <td>26</td>\n",
       "      <td>4,738</td>\n",
       "      <td>231</td>\n",
       "      <td>75814</td>\n",
       "    </tr>\n",
       "    <tr>\n",
       "      <th>19609</th>\n",
       "      <td>355163</td>\n",
       "      <td>future classic</td>\n",
       "      <td>disco</td>\n",
       "      <td>AU</td>\n",
       "      <td>Anna Lunoe and Friends - I Met You (preview)</td>\n",
       "      <td>2012-09-17 23:07:43.000000</td>\n",
       "      <td>NaN</td>\n",
       "      <td>0</td>\n",
       "      <td>0</td>\n",
       "      <td>0</td>\n",
       "      <td>568826</td>\n",
       "    </tr>\n",
       "    <tr>\n",
       "      <th>19610</th>\n",
       "      <td>183403</td>\n",
       "      <td>Deep Sounds</td>\n",
       "      <td>danceedm</td>\n",
       "      <td>AU</td>\n",
       "      <td>Jordan Burns - Your Mind</td>\n",
       "      <td>2017-08-29 20:39:57.000000</td>\n",
       "      <td>NaN</td>\n",
       "      <td>17</td>\n",
       "      <td>1,775</td>\n",
       "      <td>341</td>\n",
       "      <td>357007</td>\n",
       "    </tr>\n",
       "    <tr>\n",
       "      <th>19611</th>\n",
       "      <td>1272578</td>\n",
       "      <td>Sjammienators</td>\n",
       "      <td>danceedm</td>\n",
       "      <td>AU</td>\n",
       "      <td>Sjammienators &amp; System Overload &amp; MC Komplex -...</td>\n",
       "      <td>2016-01-22 13:51:52.000000</td>\n",
       "      <td>NaN</td>\n",
       "      <td>12</td>\n",
       "      <td>2,095</td>\n",
       "      <td>305</td>\n",
       "      <td>17356</td>\n",
       "    </tr>\n",
       "    <tr>\n",
       "      <th>19612</th>\n",
       "      <td>539454</td>\n",
       "      <td>Kompakt</td>\n",
       "      <td>electronic</td>\n",
       "      <td>AU</td>\n",
       "      <td>Vermont - Paradigma (Wassermann Krautramatrik ...</td>\n",
       "      <td>2017-10-27 04:51:20.000000</td>\n",
       "      <td>NaN</td>\n",
       "      <td>5</td>\n",
       "      <td>39</td>\n",
       "      <td>12</td>\n",
       "      <td>165268</td>\n",
       "    </tr>\n",
       "    <tr>\n",
       "      <th>19613</th>\n",
       "      <td>1543013</td>\n",
       "      <td>Yheti</td>\n",
       "      <td>electronic</td>\n",
       "      <td>AU</td>\n",
       "      <td>Yheti &amp; Metapod - Ominous Combo</td>\n",
       "      <td>2017-08-30 16:35:20.000000</td>\n",
       "      <td>NaN</td>\n",
       "      <td>113</td>\n",
       "      <td>3,754</td>\n",
       "      <td>666</td>\n",
       "      <td>52573</td>\n",
       "    </tr>\n",
       "    <tr>\n",
       "      <th>19614</th>\n",
       "      <td>415046</td>\n",
       "      <td>Hardstyle</td>\n",
       "      <td>danceedm</td>\n",
       "      <td>AU</td>\n",
       "      <td>Devin Wild - Everlasting</td>\n",
       "      <td>2015-07-30 16:27:55.000000</td>\n",
       "      <td>NaN</td>\n",
       "      <td>10</td>\n",
       "      <td>627</td>\n",
       "      <td>141</td>\n",
       "      <td>119563</td>\n",
       "    </tr>\n",
       "  </tbody>\n",
       "</table>\n",
       "</div>"
      ],
      "text/plain": [
       "       Unique_ID                Name       Genre Country  \\\n",
       "19605    1251032  Selador Recordings  electronic      AU   \n",
       "19606     971579        Night Lovell   all-music      AU   \n",
       "19607     386716         GR6 EXPLODE      rbsoul      AU   \n",
       "19608     982417          NO1 | NOAH      rbsoul      AU   \n",
       "19609     355163      future classic       disco      AU   \n",
       "19610     183403         Deep Sounds    danceedm      AU   \n",
       "19611    1272578       Sjammienators    danceedm      AU   \n",
       "19612     539454             Kompakt  electronic      AU   \n",
       "19613    1543013               Yheti  electronic      AU   \n",
       "19614     415046           Hardstyle    danceedm      AU   \n",
       "\n",
       "                                               Song_Name  \\\n",
       "19605  D - Nox & Beckers - Salt (Third Son Remix) **P...   \n",
       "19606                                           WATCH ME   \n",
       "19607  MC Mingau - Joga a Rabeta Pra Nois (DJ Helbert...   \n",
       "19608                                         Ice Me Out   \n",
       "19609       Anna Lunoe and Friends - I Met You (preview)   \n",
       "19610                           Jordan Burns - Your Mind   \n",
       "19611  Sjammienators & System Overload & MC Komplex -...   \n",
       "19612  Vermont - Paradigma (Wassermann Krautramatrik ...   \n",
       "19613                    Yheti & Metapod - Ominous Combo   \n",
       "19614                           Devin Wild - Everlasting   \n",
       "\n",
       "                        Timestamp  Views  Comments  Likes Popularity  \\\n",
       "19605  2016-06-16 10:28:59.000000    NaN         3     65          8   \n",
       "19606  2019-02-22 15:53:42.000000    NaN        18  1,690        109   \n",
       "19607  2017-12-12 17:10:27.000000    NaN         1    610         27   \n",
       "19608  2018-05-18 01:30:02.000000    NaN        26  4,738        231   \n",
       "19609  2012-09-17 23:07:43.000000    NaN         0      0          0   \n",
       "19610  2017-08-29 20:39:57.000000    NaN        17  1,775        341   \n",
       "19611  2016-01-22 13:51:52.000000    NaN        12  2,095        305   \n",
       "19612  2017-10-27 04:51:20.000000    NaN         5     39         12   \n",
       "19613  2017-08-30 16:35:20.000000    NaN       113  3,754        666   \n",
       "19614  2015-07-30 16:27:55.000000    NaN        10    627        141   \n",
       "\n",
       "       Followers  \n",
       "19605      13397  \n",
       "19606     278627  \n",
       "19607     393655  \n",
       "19608      75814  \n",
       "19609     568826  \n",
       "19610     357007  \n",
       "19611      17356  \n",
       "19612     165268  \n",
       "19613      52573  \n",
       "19614     119563  "
      ]
     },
     "execution_count": 10,
     "metadata": {},
     "output_type": "execute_result"
    }
   ],
   "source": [
    "org_data.tail(10)"
   ]
  },
  {
   "cell_type": "code",
   "execution_count": 11,
   "metadata": {},
   "outputs": [],
   "source": [
    "#pandas_profiling.ProfileReport(org_data)"
   ]
  },
  {
   "cell_type": "code",
   "execution_count": 12,
   "metadata": {},
   "outputs": [
    {
     "data": {
      "text/html": [
       "<div>\n",
       "<style scoped>\n",
       "    .dataframe tbody tr th:only-of-type {\n",
       "        vertical-align: middle;\n",
       "    }\n",
       "\n",
       "    .dataframe tbody tr th {\n",
       "        vertical-align: top;\n",
       "    }\n",
       "\n",
       "    .dataframe thead th {\n",
       "        text-align: right;\n",
       "    }\n",
       "</style>\n",
       "<table border=\"1\" class=\"dataframe\">\n",
       "  <thead>\n",
       "    <tr style=\"text-align: right;\">\n",
       "      <th></th>\n",
       "      <th>count</th>\n",
       "      <th>mean</th>\n",
       "      <th>std</th>\n",
       "      <th>min</th>\n",
       "      <th>25%</th>\n",
       "      <th>50%</th>\n",
       "      <th>75%</th>\n",
       "      <th>max</th>\n",
       "    </tr>\n",
       "  </thead>\n",
       "  <tbody>\n",
       "    <tr>\n",
       "      <th>Unique_ID</th>\n",
       "      <td>98073.0</td>\n",
       "      <td>745877.326644</td>\n",
       "      <td>4.807398e+05</td>\n",
       "      <td>0.0</td>\n",
       "      <td>320509.0</td>\n",
       "      <td>661898.0</td>\n",
       "      <td>1176694.00</td>\n",
       "      <td>1570012.0</td>\n",
       "    </tr>\n",
       "    <tr>\n",
       "      <th>Views</th>\n",
       "      <td>78458.0</td>\n",
       "      <td>546968.638992</td>\n",
       "      <td>3.883085e+06</td>\n",
       "      <td>0.0</td>\n",
       "      <td>6216.5</td>\n",
       "      <td>25386.5</td>\n",
       "      <td>120134.25</td>\n",
       "      <td>199404980.0</td>\n",
       "    </tr>\n",
       "    <tr>\n",
       "      <th>Comments</th>\n",
       "      <td>98073.0</td>\n",
       "      <td>115.987591</td>\n",
       "      <td>7.564168e+02</td>\n",
       "      <td>0.0</td>\n",
       "      <td>1.0</td>\n",
       "      <td>12.0</td>\n",
       "      <td>61.00</td>\n",
       "      <td>104082.0</td>\n",
       "    </tr>\n",
       "    <tr>\n",
       "      <th>Followers</th>\n",
       "      <td>98073.0</td>\n",
       "      <td>479673.973611</td>\n",
       "      <td>1.168391e+06</td>\n",
       "      <td>1.0</td>\n",
       "      <td>17784.0</td>\n",
       "      <td>88927.0</td>\n",
       "      <td>393655.00</td>\n",
       "      <td>9789123.0</td>\n",
       "    </tr>\n",
       "  </tbody>\n",
       "</table>\n",
       "</div>"
      ],
      "text/plain": [
       "             count           mean           std  min       25%       50%  \\\n",
       "Unique_ID  98073.0  745877.326644  4.807398e+05  0.0  320509.0  661898.0   \n",
       "Views      78458.0  546968.638992  3.883085e+06  0.0    6216.5   25386.5   \n",
       "Comments   98073.0     115.987591  7.564168e+02  0.0       1.0      12.0   \n",
       "Followers  98073.0  479673.973611  1.168391e+06  1.0   17784.0   88927.0   \n",
       "\n",
       "                  75%          max  \n",
       "Unique_ID  1176694.00    1570012.0  \n",
       "Views       120134.25  199404980.0  \n",
       "Comments        61.00     104082.0  \n",
       "Followers   393655.00    9789123.0  "
      ]
     },
     "execution_count": 12,
     "metadata": {},
     "output_type": "execute_result"
    }
   ],
   "source": [
    "org_data.describe().T"
   ]
  },
  {
   "cell_type": "code",
   "execution_count": 13,
   "metadata": {},
   "outputs": [
    {
     "name": "stdout",
     "output_type": "stream",
     "text": [
      "<class 'pandas.core.frame.DataFrame'>\n",
      "Int64Index: 98073 entries, 0 to 19614\n",
      "Data columns (total 11 columns):\n",
      "Unique_ID     98073 non-null int64\n",
      "Name          98073 non-null object\n",
      "Genre         98073 non-null object\n",
      "Country       98073 non-null object\n",
      "Song_Name     98072 non-null object\n",
      "Timestamp     98073 non-null object\n",
      "Views         78458 non-null float64\n",
      "Comments      98073 non-null int64\n",
      "Likes         98073 non-null object\n",
      "Popularity    98073 non-null object\n",
      "Followers     98073 non-null int64\n",
      "dtypes: float64(1), int64(3), object(7)\n",
      "memory usage: 9.0+ MB\n"
     ]
    }
   ],
   "source": [
    "org_data.info()"
   ]
  },
  {
   "cell_type": "code",
   "execution_count": 14,
   "metadata": {
    "scrolled": true
   },
   "outputs": [
    {
     "data": {
      "text/html": [
       "<div>\n",
       "<style scoped>\n",
       "    .dataframe tbody tr th:only-of-type {\n",
       "        vertical-align: middle;\n",
       "    }\n",
       "\n",
       "    .dataframe tbody tr th {\n",
       "        vertical-align: top;\n",
       "    }\n",
       "\n",
       "    .dataframe thead th {\n",
       "        text-align: right;\n",
       "    }\n",
       "</style>\n",
       "<table border=\"1\" class=\"dataframe\">\n",
       "  <thead>\n",
       "    <tr style=\"text-align: right;\">\n",
       "      <th></th>\n",
       "      <th>Unique_ID</th>\n",
       "      <th>Name</th>\n",
       "      <th>Genre</th>\n",
       "      <th>Country</th>\n",
       "      <th>Song_Name</th>\n",
       "      <th>Timestamp</th>\n",
       "      <th>Views</th>\n",
       "      <th>Comments</th>\n",
       "      <th>Likes</th>\n",
       "      <th>Popularity</th>\n",
       "      <th>Followers</th>\n",
       "    </tr>\n",
       "  </thead>\n",
       "  <tbody>\n",
       "    <tr>\n",
       "      <th>31398</th>\n",
       "      <td>1240617</td>\n",
       "      <td>San Holo</td>\n",
       "      <td>electronic</td>\n",
       "      <td>AU</td>\n",
       "      <td>NaN</td>\n",
       "      <td>2015-01-17 23:57:50.000000</td>\n",
       "      <td>128906.0</td>\n",
       "      <td>540</td>\n",
       "      <td>705</td>\n",
       "      <td>178</td>\n",
       "      <td>440088</td>\n",
       "    </tr>\n",
       "  </tbody>\n",
       "</table>\n",
       "</div>"
      ],
      "text/plain": [
       "       Unique_ID      Name       Genre Country Song_Name  \\\n",
       "31398    1240617  San Holo  electronic      AU       NaN   \n",
       "\n",
       "                        Timestamp     Views  Comments Likes Popularity  \\\n",
       "31398  2015-01-17 23:57:50.000000  128906.0       540   705        178   \n",
       "\n",
       "       Followers  \n",
       "31398     440088  "
      ]
     },
     "execution_count": 14,
     "metadata": {},
     "output_type": "execute_result"
    }
   ],
   "source": [
    "org_data[pd.isnull(org_data['Song_Name'])]"
   ]
  },
  {
   "cell_type": "code",
   "execution_count": 15,
   "metadata": {},
   "outputs": [],
   "source": [
    "#org_data.drop(org_data.index[31398],inplace=True)"
   ]
  },
  {
   "cell_type": "code",
   "execution_count": 16,
   "metadata": {},
   "outputs": [],
   "source": [
    "org_data['Genre'].replace({'all-music' : 'allmusic'},inplace=True);"
   ]
  },
  {
   "cell_type": "code",
   "execution_count": 17,
   "metadata": {},
   "outputs": [],
   "source": [
    "genList = pd.unique(org_data['Genre']).tolist();"
   ]
  },
  {
   "cell_type": "code",
   "execution_count": 18,
   "metadata": {},
   "outputs": [],
   "source": [
    "org_data['Name'].replace({\n",
    "  '3' : 'custhree',\n",
    "  'â˜ ï¸SÊœá´€Ê€á´€X OÒ“Ò“Éªá´„Éªá´€ÊŸâ˜ ï¸' : 'cuselectronic',\n",
    "  \"[DJWiLlY '19]✔\" : 'cusdjwilly',\n",
    "  '☆LiL PEEP☆' : 'cuslilpeepa',\n",
    "  '★☞ Azteca PDLK ☜★' : 'cusazteca',\n",
    "  'Ã‘engo Flow Official' : 'cusanengo',\n",
    "  'Đ.BoomBaa 🐱🐱🐱' : 'cusboombaa',\n",
    "  '↪ DJ JUNINHO 22' : 'cusjuniho',\n",
    "  'ä»™æ°´é¢¨æ¥½' : 'cusaeec',\n",
    "  '༄ Tha Trickaz ☁' : 'custrick',\n",
    "  'Đạt BoomBaa' : 'cusatboom',\n",
    "  'Äá»©c Durex' : 'cusdurex',\n",
    "  'Adictos A Los Corridosâœ…' : 'cusadictos',\n",
    "  'áƒ¦ ìŠˆë¹„_[à¹‘B T Sà¹‘]' : 'cusafis',\n",
    "  'AminÃ©' : 'cusamino',\n",
    "  'Anuel AA ✅' : 'cusAnuel',\n",
    "  \"Ar'mon And Trey\" : 'custrey',\n",
    "  '♤♡♢♧El Fran Rt♤♡♢♧' : 'cusfrance',\n",
    "  \"A'SOUNG\" : 'cussoung',\n",
    "  'Atif Aslam ✪' : 'cusaslam',\n",
    "  'Bad Bunny â€“ X100Pre (Ãlbum)' : 'cusbadbunny',\n",
    "  'boppin™' : 'cusboppina',\n",
    "  'Bean Xinh ❂' : 'cusbeanxin',\n",
    "  'Bảo Huỳnh' : 'cusbaeohua',\n",
    "  'Chuoi Tây ✪' : 'cuschuoi',\n",
    "  \"B'Small DJ\" : 'cussmalldj',\n",
    "  'CÅfresi' : 'cusfresh',\n",
    "  'Chuột Đow' : 'cuschuaw',\n",
    "  'Cá»‘p Cá»‘p' : 'cuscap',\n",
    "  'Connor♛' : 'cuscannora',\n",
    "  'Ð¢Ð¸Ð¼Ð° Ð‘ÐµÐ»Ð¾Ñ€ÑƒÑÑÐºÐ¸Ñ…' : 'cusddd',\n",
    "  'Dương Đức Cương ✪ 0868425758' : 'cusdaeing',\n",
    "  'Declan Devine ✪' : 'cusdeclan',\n",
    "  'CRYJAXX Too 🌐' : 'cuscry',\n",
    "  'DJ ANDERSON DO PARAÃSO' : 'cusdjandersondo',\n",
    "  'Disciple ♛ ♜ ♞' : 'cusdiscipline',\n",
    "  \"Deezay Phong House's\" : 'cusdeezay',\n",
    "  \"DJ Bướg's\" : 'cusdjbae',\n",
    "  'DJ ALEXIS TUME ☑' : 'cusdjalex',\n",
    "  'DIVINE ✨' : 'cusdivineae',\n",
    "  'DJ CABELÃO DO TURANO (BAILE DA AUSTRÁLIA) ®' : 'cusdjcabela',\n",
    "  'DJ DÅ©ng Pham' : 'cusdjdang',\n",
    "  'DEFÎ›LT' : 'cusdefilt',\n",
    "  'DJ DENILSON DO CHAPADÃO 🇪🇬' : 'cusdjdeni',\n",
    "  'DJ Jesús Sánchez' : 'cusdjjesa',\n",
    "  'DJ GUSTAVO MIX ®' : 'cusdjgus',\n",
    "  'DJ ENJOY Official ✪' : 'cusdjenjoy',\n",
    "  'DJ WJ DA INESTAN | TROPA DO GORDÃƒO'  :'cusdjwjda',\n",
    "  'DJ VINICIN DO CONCÃ“RDIA' : 'cusdjvinicin',\n",
    "  'DJ TiLÃ´' : 'cusdjtila',\n",
    "  'DJ XICLAUDIO 🇮🇶' : 'cusdjxicl',\n",
    "  'DJ TX Producer ✪' : 'cusdjtx',\n",
    "  'DJ PENOSO DA CDM 🇨🇮' : 'cusdjpenoso',\n",
    "  'Drop Central 💧' : 'cusdjcentral',\n",
    "  \"👻 Hi I'm Ghost 👻\" : 'cushighost',\n",
    "  '🌸fatboibari🌸': 'cusfatboi',\n",
    "  '🍺 Hiruko 🍺' : 'cushiruko',\n",
    "  'ÊŸá´œá´„á´€ ÊŸá´œsÊœ' : 'cuseya',\n",
    "  'EDM Vietnam ✅' : 'cusedmvietnam',\n",
    "  'El Zorillio Tribalerio *Dj Zorra Mix*' : 'cusdjzorra',\n",
    "  'El Compa Chilo Oficial 🎶🎶' : 'cuselcompa',\n",
    "  'galaxy music ✪' : 'cusdjmusic',\n",
    "  'Giật' : 'cusgiat',\n",
    "  'GUAPOTREY👽' : 'cusguapotrey',\n",
    "  'Ha Banana ✪' : 'cushabanana',\n",
    "  'Hybrid Trap 🔥' : 'cushybrid',\n",
    "  'HEYKERI🌸' : 'cusheyker',\n",
    "  'HU₵₵I' : 'cushuaua',\n",
    "  'Jon Z ✅' : 'cusjonz',\n",
    "  'JadÅ« Dala' : 'cusjada',\n",
    "  'Jhené Aiko' : 'cusjhena',\n",
    "  'Jack Ü' : 'cusjackae',\n",
    "  'ï¼³ï¼¨ï¼¥eï¼³ï¼¨' : 'cusiiiy',\n",
    "  '태태 Daily' : 'cusififoe',\n",
    "  'JoÃ£o Sousa' : 'cusjoaeo',\n",
    "  'k$upreme' : 'cussupreme',\n",
    "  'Ken77 💎' : 'cusken77',\n",
    "  'K2N â™¥ K-Pop 1st' : 'cusk2na',\n",
    "  'KeeBin ✪' : 'cuskeebin',\n",
    "  'ka$h steezy' : 'cuskash',\n",
    "  'KNY FÎ›CTORY' : 'cusknyfactory',\n",
    "  'Khoa Dương' : 'cuskhoa',\n",
    "  'L2Share♫52' : 'cusls52',\n",
    "  'L2Share♫59' : 'cusls59',\n",
    "  'L2Share♫55' : 'cusls55',\n",
    "  'L2Share♫49' : 'cusls49',\n",
    "  'L2Share♫42' : 'cusls42',\n",
    "  'L2Share♫77' : 'cusls77',\n",
    "  'L2Share♫79' : 'cusls79',\n",
    "  'L2Share♫66' : 'cusls66',\n",
    "  'L2Share♫78' : 'cusls78',\n",
    "  'L2Share♫80' : 'cusls80',\n",
    "  'LEEDJ - Fb: Bùi Kim Tân - DJ MR.LEE ✪' : 'cusleeddj',\n",
    "  'Lenny TavÃ¡rez' : 'cuslenny',\n",
    "  'Lil Tecca ✰' : 'cuslil',\n",
    "  'La Casa Urbana ✅' : 'cuslacasa',\n",
    "  'Liam Cleary 💯😎♛' : 'cusliam',\n",
    "  'LibeikastÃ²nem' : 'cuslibeik',\n",
    "  'MELHORES PAGODES ✪' : 'cusmelhores',\n",
    "  'Mincafé' : 'cusmincaf',\n",
    "  'MOHAMED HALIM ✪' : 'cusmohamed',\n",
    "  'More Fruit 💦🌿🍎' : 'cusmore',\n",
    "  'mxrÃ§h/pt.10' : 'cusmxra',\n",
    "  'Music Mhragnat - ميوزك مهرجانات' : 'cusmusicmhra',\n",
    "  'NESCAFÃ‰ Basement' : 'cusnescafe',\n",
    "  'Nguyễn Tài Trí­' : 'cusnguya',\n",
    "  'Nguyễn Công Danh' : 'cusdanh',\n",
    "  'Ø´Ø¹Ø¨ÙŠ Ø³Ø§ÙˆÙ†Ø¯' : 'cusooosu',\n",
    "  'ó €' : 'cusoe',\n",
    "  'OFFSET â€“ FATHER OF 4 (ALBUM)' : 'cusoffset',\n",
    "  'Ø¹Ù…Ø±Ùˆ' : 'cusouou',\n",
    "  'Quá»³nh Anh Shin' : 'cusquanh',\n",
    "  'RÃœFÃœS DU SOL' : 'cusrafa',\n",
    "  'RyanMcRandal♈' : 'cusryanmc',\n",
    "  'Phong Hải Nguyễn' : 'cusphong',\n",
    "  'RD Urbans Music ✅' : 'cusrdurban',\n",
    "  'Rodrigo LeÃ³n' : 'cusrodrigo',\n",
    "  'Stickybuds~' : 'cusstickybud',\n",
    "  'SangChjvas (Đích Bự)' : 'cussangchi',\n",
    "  'Smooky MarGielaa 🍇' : 'cussmooth',\n",
    "  'SterkÃ¸l' : 'cussterk',\n",
    "  'sad frosty :(' : 'cussadfrost',\n",
    "  'Sunmin Jeong_선민' : 'cussunmin',\n",
    "  'TiÃ«sto' : 'custias',\n",
    "  'Trapeton Tv ✅' : 'custrapton',\n",
    "  'The Trap House ✅' : 'custraphou',\n",
    "  'TOON KIDS MUSIC®' : 'custoon',\n",
    "  'VINXEN🇰🇷' : 'cusvinxen',\n",
    "  'VÅ©,' : 'cusvac',\n",
    "  \"Ujico*/Snail's House\" : 'cusujico',\n",
    "  'Văn Nguyên' : 'cusvafn',\n",
    "  'Ù…Ù‡Ø±Ø¬Ø§Ù†Ø§Øª' : 'cusuusu',\n",
    "  'Việt' : 'cusviat',\n",
    "  'W. A. Production®' : 'cusproduction',\n",
    "  'Yvng JalapeÃ±o' : 'cusyvng',\n",
    "  'Wooli 🐘' : 'cuswooi',\n",
    "  'weef leaks*' : 'cusweekleaks',\n",
    "  'شعبي ساوند' : 'cusurdu1',\n",
    "  'Тима Белорусских' : 'custennna',\n",
    "  '仙水風楽' : 'cusjapene',\n",
    "  'مهرجانات' : 'cusurdu2',\n",
    "  'عمرو' : 'cusurdu3',\n",
    "  'ANUEL AA ✅' : 'cusanuelaaa',\n",
    "  '☠️SʜᴀʀᴀX Oғғɪᴄɪᴀʟ☠️' : 'cusahrax',\n",
    "  '- S E C K O M -' : 'seckom',\n",
    "  'ღ 슈비_[๑B T S๑]' : 'cusemojii',\n",
    "  'Vũ,' : 'cusvuuu',\n",
    "  'K2N ♥ K-Pop 1st' : 'cusk2nkpop',\n",
    "  '\\U000e0020' : 'cusunics',\n",
    "    'Trippie Redd\\x7f' : 'cusremovesla',\n",
    "    'ʟᴜᴄᴀ ʟᴜsʜ' : 'cuslucalush',\n",
    "    'Adictos A Los Corridos✅' : 'cusadictosalos',\n",
    "    'ＳＨＥeＳＨ' : 'cusSheshh'\n",
    "},inplace=True)"
   ]
  },
  {
   "cell_type": "code",
   "execution_count": 19,
   "metadata": {},
   "outputs": [],
   "source": [
    "def remEmo(strVal): \n",
    "   encoded = strVal.encode('ascii', 'ignore').decode('ascii')\n",
    "   return re.sub('[^A-Za-z0-9]+', '', strVal)"
   ]
  },
  {
   "cell_type": "code",
   "execution_count": 20,
   "metadata": {},
   "outputs": [],
   "source": [
    "org_data['Name'] = org_data['Name'].transform(lambda x: remEmo(x))"
   ]
  },
  {
   "cell_type": "code",
   "execution_count": 21,
   "metadata": {},
   "outputs": [
    {
     "name": "stdout",
     "output_type": "stream",
     "text": [
      "danceedm ------------\n",
      "['Hardstyle', 'DjAladdin', 'MaxximizeOnAir', 'Tritonal', 'Diplo', 'TWOLOUD', 'RevealedRecordings', 'MMNC', 'Monstercat', 'pmrecordings', 'MorganPage', 'DJIsaac', 'ProtocolRecordings', 'officialb2s', 'DimMakRecords', 'ikamize', 'EnsisRecords', 'MastersofHardcore', 'DavidJacomeTCP', 'ArminvanBuuren', 'QunhAnhShin', 'MikePerrySweden', 'DirtyWorkz', 'RobinSchulz', 'HeartfeldtRadio', 'GoodEnuff', 'DjKantik', 'DavidGuetta', 'MadDecent', 'NeophyteRecords', 'CalvinHarris', 'Scantraxx', 'OtiliaOfficial', 'Plasmapool', 'R3HAB', 'Ninety9Lives', 'GDKR', 'REESE', 'Coone', 'cusleeddj', 'JulianJordan', 'EPHWURD', 'RadicalRedemption', 'SpinninRecords', 'Afrojack', 'Galantis', 'RomenJewelsSecrets', 'RiddimNetwork', 'WillSparks', 'KHARFI', 'DeepSounds', 'Tisto', 'CrisisEra', 'cushabanana', 'cusproduction', 'MugatunesVIP', 'neutral', 'TribalTrap', 'GhostDragon', 'PartyPupils', 'BarongFamily', 'DjIsI', 'NCS', 'MajorLazerOFFICIAL', 'ValentinoKhan', 'MetanoiaMusic', 'KapSlap', 'JadDala', 'TwilightNotes', 'cusdeezay', 'slushii', 'djJo', 'Avi8', 'CleanBandit', 'QuartzoRecords', 'TheChainsmokers', 'JesseBlochBootlegsMashups', 'POWERFULRAMA', 'ArtofDance', 'Enschway', 'cuslucalush', 'ShipWrek', 'JamieBDJProducerofficial', 'SWATTREX', 'AceAura', 'WaspRecords', 'Tobtok', 'Sjammienators', 'PLAYBOX', 'Gryffin', 'DJTiL', 'CLUBLIFE', 'cushighost', 'BrennanHeart', 'DjOverflow', 'Cryogenicofficial', 'DjThera', 'DBSTF', 'Rudimental', 'nickyromero', 'ILLENIUM', 'Teminite', 'StoRo', 'LeeKeenanBootlegs', 'R3HABINEEDR3HAB', 'FransisDerelle', 'VXIIRadio', 'frshblood', 'JustinCaruso', 'NolanvanLith', 'WarfaceOfficial', 'DropItNetwork', 'Rudeejay', 'BlackTigerSexMachine', 'Atmozfears', 'FoldedDragons', 'WILDBOYZ', 'QUIX', 'Flosstradamus', 'Mike', 'SKBEATSTECH', 'Elephante', 'NASCENT', 'dimitrivegasandlikemike', 'siximpala', 'Unresolved', 'FonkRecordings', 'CaptainCuts', 'HikaruUtada', 'cuscannora', 'PatrickReza', 'MaxximizeRecords', 'cusdjenjoy', 'Raider', 'RickieNolls', 'Summer', 'Imes', 'cusdjbae', 'HatredOfficial', 'pluggedrecords', 'PARTYFAVOR', 'DJPhongMelody', 'FESTIVALTRAP', 'cussmalldj', 'RIOTTEN', 'DJKushagra', 'cusheyker', 'cusjackae', 'Clockartz', 'cussoung', 'DJCRivera', 'FotschFest', 'DJBlyatman', 'HyperPotions', 'KonradMil', 'Teebo', 'JEFF', 'GemstoneRecords', 'WW', 'Elektronomia', 'Olosai', 'cusken77', 'BVRNOUT', 'LazyBear', 'SIMONPALACIOS', 'Chime', 'Divana', 'AmplifyMusicSection', 'MassiveNewKrew', 'ju1ced', 'cusSheshh', 'flybymidnight', 'Hipst3r', 'VANICOfficial', 'Tisoki', 'MacksWolf', 'D3V', 'RomenJewelsDiary', 'cussangchi', 'Kakeru', 'Hundaes', 'HUYNEWYORK', 'RomenJewelsVIP', 'DharmaWorldwide', 'msft', 'Sigala', 'smee5', 'SHAKEDOfficial', 'SimilarOutskirts', 'cusatboom', 'N3bula', 'cuschuaw', 'JayEskar', 'Soba', 'NguynTiTr', 'GTA', 'Pardi', 'Inextremis', 'AashMehta', 'RiotShift', 'MinhQuang', 'echod', 'HardEffectz', 'JoeyStux', 'cusboombaa', 'Dulsae', 'CamGiaHuy', 'Croft', 'Trademark', 'Vangorian', 'ELEX', 'cusliam', 'Triggabyte', 'cusdjtx', 'FutureGenerationRemixes', 'DXY', 'Akari', 'OllyJames', 'WindFair', 'lukegarrity', 'RWan', 'NCRYPTA', 'BEAUZ', 'DJDngPham', 'Son2M', 'JOEDAWESFOLLOW', 'LINDI', 'cDurex', 'NCM', 'KAYVIANRemixes', 'cusdaeing', 'pg200', 'RainMan', 'Straim', 'CRVKS', 'KEVU', 'Aeden', 'TeeMin', 'WEVLTH', 'DISTO', 'KyanteWilson', 'MINDDIMENSION', 'KLAXX', 'nelle', 'LOUDLUXURY', 'ARCANDO', 'Anderex', 'MEDUZA', 'delgrosso', 'cusdeclan', 'DUCTRIEU', 'cushiruko', 'GEO', 'Koni', 'BORNDIRTY', 'Manse', 'custoon', 'DholiHardo', 'Upriser', 'cusvafn', 'TwoFriendsRemixes', 'GaganGupta6', 'CODEKO', 'GabeCeribelli', 'Jenaux', 'TERRORBASS', 'Baaku', 'ezuworld', 'DJVuKem', 'Matte', 'DjSunny510', 'BAINBRIDGE', 'cusbeanxin', 'CrazEFools', 'AnthonyPham', 'BrunoTorresRemixes', 'ProducerDMinz', 'DJPADDA', 'Slooze', 'TonyKakkarKuchKuchNehaKakkarPriyank', 'UKato', 'kiino', 'ZaddyB', 'whoisFIYAH', 'NAZAARSWAVES', 'cusbaeohua', 'PandaPanda', 'CKTLSDRMS', 'TCK', 'MADGRRL', 'KayleighBeresford', 'TCTProduction', 'TuanLux', 'DJVITIEUBAO', 'livandmim', 'CODEKOCLASSIFIED', 'Klo', 'FeelTheBeat', 'DEFLT', 'cuskhoa', 'WOO2TECHPROMO', 'ThuyNgocLe', 'CabuizeeVIPs', 'cusdanh']\n",
      "rbsoul ------------\n",
      "['GR6EXPLODE', 'DJGUIMARQUES', 'LEGENDAFUNK', 'KondZillaRecords', 'DJR7', 'DJHenriquedeFerraz', 'DJPHDASERRA', 'DJANDERSONDOPARASO', 'DJWJDAINESTANTROPADOGORDO', '6LACK', 'VedoTheSinger', 'DJVINICINDOCONCRDIA', 'DJARTHUZIIN', 'DJBERTOLOSSIDOMARTINS', 'YkOsiris', 'EricBellinger', 'OfficialJeremih', 'partyomo', 'Treybaile', 'SydneyRenae', 'cusdjcabela', 'GR6FLUXOS', 'cusjhena', 'OriginalDoBrasil', 'BAZZI', 'QueenNaija', 'cusdjxicl', 'cusdjgus', 'TrinidadCardona', 'DJVITINDOPCOFICIALCliqueemSeguir', 'NO1NOAH', 'cusryanmc', 'beartrapsound', 'Dounia', 'DJCAIODOJURAMENTO', 'DJSAMMER', 'Gallant', 'HER', 'TopDawgEnt', 'Potion', 'DJVIANA', 'CoreyNyell', 'brysontiller', 'Khalid', 'BhadBhabie', 'cussmooth', 'SNOHAALEGRA', 'cusdjpenoso', 'SFiremusic', 'Tink', 'cusfatboi', 'MCFROGA2M', 'Thoreau', 'cusififoe', 'Joji', 'LilBabyStreetGossip', 'JamieHan', '21plohoi', 'LaytonGreene', 'vromance']\n",
      "allmusic ------------\n",
      "['cussupreme', 'ROJAS', 'Angel', 'lynx1337', 'SLANDER', 'XavierWulf', 'LilKeed', 'MONTANAof300', 'News24', 'UNDERVIETRAP', 'NoJumper', 'GHOSTEMANE', 'KanyeWest', 'Aviwkila', 'SteveAoki', 'BenGaughan', 'LilWayne', 'YoungBoyNeverBrokeAgain', 'FLEXSTAR', 'CardiB', 'JuiceWRLD', 'UICIDEBOY', 'Skinnyfromthe9', 'FettyWap1738', 'KodakBlack', 'FACE', 'cusjonz', 'octobersveryown', 'Gunna', 'LilDurk', 'cuslilpeepa', 'Kehlani', 'MCRICKOFICIAL', 'PnBRock', 'Calboy', 'YnwMelly', 'MEEKMILL', 'cusremovesla', 'DJGABRIELDOBOREL', 'JuicyJ', 'ChrisTravis', 'DAVEEAST', 'Future', 'Jacquees', 'TeeGrizzley', 'MetroBoomin', 'YG', 'SevenLions', 'GucciMane', 'KiDTRUNKS', 'marshmello', 'Music', 'cusdjdeni', 'AdhamSeliman', 'smokepurpp', 'Pouya', 'jazzycatt', 'DJSNAKE', 'SHORELINEMAFIA', 'CharliePuth', 'LilBaby', 'cusurdu1', 'AhmedtheArab', 'RichTheKid', 'KamBennett', 'JCole', 'YoungThug', 'cubied', 'NightLovell', 'ABOOGIEWITDAHOODIE', 'Pornhub', 'KevinGates', 'Tyga', 'YoungMA', 'BTS', 'THEGANG', 'cusvinxen', 'FlippDinero', 'PHORA', 'FamousDex', 'RoddyRicch', 'LILUZIVERT', 'REZZ', 'Touliver', 'cusedmvietnam', 'CityGirls', 'BassSantana', 'cusls59', 'MARTYBALLER', 'cusls79', 'EKALI', 'Dracovii', 'UziUpdatess', 'RLGrime', 'OweR', 'ShadyAli', 'cuslil', 'andersonpaak', 'JATTFROMSEATTLE', 'LILXAN', 'MinhHieuSickBoy', 'xantacular', '21Savage', 'KVNj', 'LilYachtyRDLilBoat', 'TravisScott', 'DPhoenix3900', 'PostMalone', 'elmagnon', 'InformateSalta', 'SNAILS', 'SoldierKidd', 'cusmincaf', 'cusls55', 'LifeOfDesiigner', 'marcusbasquiat', 'Git', 'cusphong', 'SKIMASKTHESLUMPGOD', 'QuarTer2', 'MohamedSamir341', 'MartinGarrix', 'cusls49', 'JOYRYDE', 'DestoDubb', 'lilskies', 'BIGBANKCAMPAIGN', 'ZMoney', 'ATLiens', 'WORLDSTARHIPHOP', 'TEYANATAYLOR', 'LilAK', 'GEARWORLD', 'custennna', 'Johnnysinger81', 'ianndior', 'AYLEK', '16yrold', 'Michael', 'COMETHAZINE', 'XXXTENTACION', 'cusls66', 'YGEntertainment', 'POLOG', 'cusmohamed', 'SummerWalker', 'hhlmusic', 'ARKARECORDS', 'custhree', 'LilMosey', 'DONQ', 'YungGravy', '6dogs', 'JesusHoncho', 'cusmusicmhra', 'cusls78', 'LilGotit', 'EllaMai', 'QuandoRondo', 'custrey', 'joginderSingh', 'AdamAmin', 'LilPump', 'cusjuniho', 'liltracy', 'PHARAOH', 'KRANE', 'BillieEilish', 'MohamedAbkarino', 'PrinceArmani', 'SupremePatty', 'cusaslam', 'Nanks', 'Jack', 'MohamedRamadan', 'Offset', 'PoloG', 'cusjapene', '6IX9INE', 'LilTjay', 'eslammostafa', 'WorldStarHipHopRadio', 'noon', 'yung187', 'RodrigoLen', 'IM', 'PEEKABOO', 'EliSostre', 'cusviat', 'TwoFriendsBigBootieMixes', 'cuskash', 'realpcy', 'MohamedTalaat', 'Takeoff', 'cusmore', 'Tucandeira', 'CpCp', 'AhmedEmad', 'officialysm', 'JooSousa', 'YAKUTARO', 'BlueFace', 'MoneyJourney', 'cusurdu2', 'cussadfrost', 'JayGwuapo', 'bennyblanco', 'cusweekleaks', 'RobertRaafat', 'LukaLucky', 'cusguapotrey', 'liljewsh', 'diaswiguna', 'TriOnDaBeat', 'Sherine', 'AlexGrey', '1TakeJay', 'NessTheKid', 'Japannnnnn', 'BoldVibrations', 'cusls80', 'GMGBDAIDOUGH', 'DutchRevz', 'Leekjack', 'NLEChoppa', 'JhayCortez', 'VladZinchenko', 'Sebek', 'YKOsiris', 'New2018', 'ISCOO', 'cusurdu3', 'MarvelBoy']\n",
      "trap ------------\n",
      "['NickVanelli', 'COLOVEProducts', 'ZCBeats', 'TimGunter', 'TrapSounds', 'TrapMusicHD', 'Thissongissickcom', 'FreeHipHopBeatsFreeBeats', 'BeastInsideBeatsTypeTrapRapInstrumentals', 'UltimateTrvp', 'YungDza', 'ZZZBeats', 'MistrzMarcus', 'DJTMarq201', 'Lemao1305', 'cushybrid', 'PantheonSelect', 'EscapeRadio', 'LilGun', 'TrapHouseLatino', 'Trap', 'ArmanCekinRemixes', 'RabbitNetwork', 'dr3amb3ing', 'SweetSpot', 'Kontrabandz', 'OhhhGawd', 'custrapton', 'MoreThanRecords', 'memphis', 'ShevStax', 'TrapNetwork', 'DjCarnage', 'CVRTOON', 'Osias', 'Voldex', 'MattBarkerMusic', 'LosDurosTV', 'DomMariachi', 'TMass', 'AEROCHORD', 'cushuaua', 'afieqzz', 'Lucian', 'KNYFCTORY', 'Crankdat', 'TrapCodeine', 'alexeiorloff', 'TheBestSongs', 'Faded', 'RomenJewels', 'Noriel', 'BASSFAM', 'KayouRemixes', 'BlameConnor', 'TeamGenerationDJBGeneration', 'BakadiMusic', 'ShawnWasabi', 'JerseyClubCO', 'YungStorm', 'jorell', 'cuscry', 'ReauBeau', 'REVOKE', 'NuElectRemix', 'Sweepz', 'Marcusmj', 'Rudboii', 'Trillions', 'TrueKingProductions', 'KXA', 'DjJFernandez']\n",
      "latin ------------\n",
      "['DeejayEckoPNCS', 'promocionesfreddy', 'CorridosDelux', 'DJMAGOFLOWLaFamiliaDJsRadio', 'DJRayMambo', 'DeeJayGonzalo', 'Legado7', 'engoFlowOfficial', 'LuisPerez13', 'PNCSINC', 'cusadictosalos', 'DJMorenoAPP', 'EstiloSucio', 'DeejayNpLTP', 'EleAElDominio', 'ElDeLaDelta', 'TRAPCORRIDO', 'cusAnuel', 'BryantMyersMikyWoodzCambioDeClimaAlbum', 'BandaSinaloenseMSdeSergioLizarraga', 'cusanuelaaa', 'cusfrance', 'cusazteca', 'djmarcosnealtican', 'EATRAP', 'cusdjjesa', 'CorridosCulichi', 'infamososmiley', 'TRAPCLOUD', 'DjjkingPNCS', 'cusdjzorra', 'JLProduCer', 'OFFSETFATHEROF4ALBUM', 'JesusMarin', 'BadBunnyX100Prelbum', 'LosHijosDeGarcia', 'BachataRomantic', 'cuslacasa', 'cusrdurban', 'RomeoSantos', 'custraphou', 'Darell', 'cusdjalex', 'LumarPerez', 'CHOQUEURBANO', 'Mahritsza', 'MenorMenor', 'DjReneReyes', 'FuerzaRegida', 'ReggaetonTRAP', 'LaryOver', 'LaAngelinaMusic', 'AnuelAA', 'TRAPSUPER', 'cuselcompa', 'HeberSalvador', 'cusdjwilly', 'EscapadeClubs', 'DJMeccaNBPCV', 'CHURAYrec', 'DJMartinezHouston', 'djchorlo', 'LucasTobias', 'DJCHITOX3', 'AlissonVitor']\n",
      "electronic ------------\n",
      "['WBxMB', 'NoMana', 'ACSlater', 'CatDealers', 'UpriseMusic', 'UptempoHCChannel', 'NickNitro', 'Mixmag', 'CloZee', 'modernlove', 'TheUpbeats', 'KIRA', 'YoeMase', 'LinhLee0946233333', 'BigBeatRecords', 'RFSDUSOL', 'FatherFunk', 'Yheti', 'DecembriaPiccolo', 'CONRANK', 'Kompakt', 'GETTER', 'IvyLab', 'moogmusicinc', 'DILLONFRANCIS', 'Xavi', 'Laszlo', 'BigHitOFFICIAL', 'Midoca', 'BOILERROOM', 'DHAAMDeepHouseLondon', 'arael', 'Flume', 'NoraEnPure', 'SeladorRecordings', 'Alicks', 'RetroSpecter', 'BigWild', 'Complexion', 'DJTiDi', 'cusdjcentral', 'BeatsInSpace', 'HippieSabotage', 'OneyMusic', 'ShanghaiDoom', 'TheGlitchMob', 'TrapNation', 'jrmusic', 'KalyaScintilla', 'HungryMusic', 'DeepRootRecords', 'JACKAL', 'Rampa', 'LeagueofLegends', 'WAVEDASH', 'JACKNIFE', 'KillParis', 'Jacob', 'HOME', 'StilvorTalent', 'AMTRAC', 'EasternOdyssey', 'PAN', 'Menumas', 'bitbird', 'Ashur', 'Stephen', '4i20', 'ClickOnDetroit', 'SayMaxWell', 'ODESZA', 'WIWEK', 'SNAKEHIPS', 'Cubicolor', 'kLLsMTH', 'Machinedrum', 'Yunizon', 'BreakEnterSociety', 'FACT', 'TOOKIND', 'HEKLER', 'Proximity', 'Tasty', 'PERTURBATOR', 'Lane8', 'Mefjus', 'BLEEPBLOOP', 'RisingDust', 'Zimmer', 'TheFatRat', 'xavierdang', '12thPlanet', 'cuschuoi', 'mau5trap', 'GHASTLY', 'SleepingAtLast', 'Egzod', 'JFisher3', 'LiquidRitual', 'M83', 'NowadaysRecords', 'RobotHeart', 'mxrhpt10', 'Mastadon', 'PSYQUI', 'solomun', 'TryHardNinja', 'DoctorP', 'Gesaffelstein', 'WhatSoNot', 'Afterlife', 'EDMcom', 'blakeskowron', 'DiscipleRoundTable', 'MeauxGreen', 'wwwAreaDugemnet', 'MovingCastle', 'Frequent', 'cuco', 'WITNESSTHIS', 'MayanWarrior', 'YOOKiE', 'EverythingGorillazP2', 'NinaKraviz', 'Reaper', 'NittiGritti', 'laxcity', 'cusahrax', 'VALENTINE', 'APASHE', 'Kotori', 'KRONO', 'HegemonSelect', 'Windhive', 'PaulaTemple', 'MrRianThaal', 'AMIDY', 'Synthion', 'tsuruda', 'GillChang', 'LouisTheChild', 'KUURO', 'DjNevRemixesEdits20', 'Kaivon', 'CALCIUM', 'LateJune', 'GiorgiaAngiuli', 'Savoy', 'CircusRecordsOfficial', 'PETITBISCUIT', 'DoktorFroid', 'brednbutter', 'UFOProject', 'brothel', 'MysterySkulls', 'COVEX', 'KOANSound', 'SanHolo', 'Swunks', 'OLIVERSE', 'Stonebank', '1788L', 'MyNuLeng', 'Luceo', 'Audien', 'TwoFeet', 'Kasbo', 'clammyclams', 'GiovaniBaldan', 'Synkro', 'Midland', 'Spectrum', 'PatrickTopping', 'Luttrell', 'Mielo', 'GJONES', 'Schorty', 'WEAREFURY', 'PorterRobinson', 'Cfresi', 'custrick', 'SN0WMASS', 'DJRYCKORIAaccountactive', 'ECHOS', 'ONYRIXDinoOlivieri', 'CaptainHook', 'DjTennis', 'Flexible', 'Featurecast', 'HarlowLewis', 'HessleAudio', 'Convex', 'Vexento', 'ManilaKilla', 'TheFunkHunters', 'cuskeebin', 'DannyDelgado', 'cusujico', 'lclone', 'Synchronice', 'NelchaelNelchabarren', 'UndiscoveredSounds', 'PaxImpera', 'DOJO', 'cusls42', 'DjZubairDubai', 'GLADEZ', 'cusdivineae', 'ForeignFamilyCollective', 'GoldenFeatures', 'BackTalk', 'DISKORDuk', 'Tchami', 'DigitalRecords', 'PEARLWHITE', 'kudasai', 'MysticalComplex', 'idealism', 'SYNESTHESIA', 'XinwiIII', 'bitbirdradio', 'JkylHyde', 'vowl', 'JusticeSkolnik', 'PYRMDPLAZA', 'FarOut', 'AcidPauli', 'cuswooi', 'DanFarber', 'ElectricMantis', 'YvngJalapeo', 'ford', 'Deathpact', 'Hahlweg', 'Voliik', 'AlfredoCarpineti', 'Kayoh', 'JaguarDreams', 'seckom', 'SNEEK', 'LILTEXAS', 'Nurko', 'graves', 'LazySyrupOrchestra', 'Besomorph', 'GRAVEDGR', 'Sterkl', 'TWOLANES', 'FloretLoret', 'AViVA', 'Sefa', 'JVNA', 'SuitofBullets', 'iLLPeTiLL', 'enjoii', 'PlaygroundRadio', 'Tigey', 'LARSEN', 'DogeTheDog', 'cusemojii', 'Pope', 'HaroldvanLennep', 'Glazkov', 'Subfer', 'TOKYOMACHINE', 'MarinHoxhaRemixes', 'TRAILS', 'tinyelephant', 'Khamsin', 'Aiobahn', 'TypicalHeist', 'AlejandroMichelena', 'JobJobse', 'Jaron', 'DJMix', 'PrinceWinstonTheeThird', 'Jeaux', 'ThissongissickMixes', 'ELMO3', 'MAG3', 'Vincent2', 'ChetPorter', 'Mako', 'MADDS', 'Libeikastnem', 'AnselElgort', 'Puppet', 'Bazealous', 'MILDMINDS', 'HugoOuanounou', 'LightsMusicCollective', 'Jaenga', 'Kora', 'Kantor', 'JeremyWildcard', 'BullInAChinaShop', 'DikiWahyudi', 'GuyNicki', 'Husseinse7s', 'Ferdy', 'SERPENTS', 'AdriatiqueCercle', 'SlowHours', 'KyleMurdock1', 'DJFarrukh']\n",
      "deephouse ------------\n"
     ]
    },
    {
     "name": "stdout",
     "output_type": "stream",
     "text": [
      "['trndmsk', 'SweetMusique', 'WhenWeDip', 'ShineMusic', 'Anjunadeep', 'HEXAGON', 'AuxLondon']\n",
      "hiphoprap ------------\n",
      "['Amin', 'NGHTMRE', 'cusls77', 'lilawge', 'CCAUL']\n",
      "classical ------------\n",
      "['MrSuicideSheep', 'Tirantbacon2', 'DeltaruneOST']\n",
      "ambient ------------\n",
      "['ResidentAdvisor', 'Kygo']\n",
      "pop ------------\n",
      "['MACAYRES', 'YtMatchcom', 'johnlegend', 'Haywyre', 'FreshMusic', 'TriSuprastomoNitihardjo', 'cusls52', 'cusdjmusic', 'crisaunt', 'PinkSweat', 'EdoIrawan', 'Vicetone', 'RaulRM', 'Dilettant', 'RhymeCloudPunjabiHindiPoetry', 'LILLOTUS', 'Mabel', 'cusmelhores', 'DaniellaCerda', 'AK', 'cusvuuu', 'NgTiek', 'Lacuna', 'Pucca', 'cusk2nkpop', 'ChandhikaBatubara', 'dssv', 'hongkhanh', 'kg', 'JoshuaPerez', 'ThnhSuy', 'Hiderway', 'MaateshMurali', 'septianyudaputra', 'AgusPriyambodo', 'Taofikopung', 'musicku', 'RmasticRecords', 'JoepryYanto', 'XXXTentacion', 'ChrisAring', 'UrangAwak', 'himsy', 'HIGHONMUSIC', 'GleamRecords', 'masdayat97', 'L2ShareOST18', 'farplaces', 'Jun', 'AndrewBarthFeldman', 'PMJPastorMikeJr', 'cussunmin', 'KENNIE', 'Hades', 'essri', 'FerryanYudha']\n",
      "rock ------------\n",
      "['AtlanticRecords', 'SayvenMusic', 'SampleLogic', 'Nirvana', 'Queen', 'AddKim', 'Ocean', 'EMOtionalxan', 'SteveSchlatman', 'LINKINPARK', 'JORDICARRERAS', 'MWard', 'DoniaAnis', 'zpk', 'SoulSaiyanXth', 'SertanejoRepost', 'Mildred', 'PanoramaLIVE', 'NESCAFBasement', 'waltermartinmusic', 'ZinayHernandez', 'KumaKokoro', 'NarzoSanabria', 'UndertaleDaitaiRirekiAZUnderswapOST', 'Lyke', 'pluffaduff', 'FM84', 'WarnerMusicNashville', 'freakinjar', 'AndyWells1', 'MateusSantiago', 'cusunics', 'JAK3', 'StarsandRabbit', 'conradfoxx', 'williamgoodofficial', 'Moon', 'cartoonben', 'UlviyyaAli', 'KwiinPonira', 'Lontalius', 'benjamino', 'arthyum', 'TrevorSomething', 'MatheusBazoli', 'Offing', 'PortaldoRap', 'ALLMusic', 'AminAshkan', 'Strelitzian', 'Tooru', 'MichaelGutierrezDiaz', 'TeenageKicks', 'cusboppina', 'FuckThePxpulatixn', 'Tonifa', 'NightCore', 'FauzanBuex', 'adik21', 'Tam0146', 'fthc', 'DJCantikcom', 'boypablo', 'GymBestMusicForWorkout', 'BadWolves', 'RyukeiZero', 'MalikHamzaSajjad', 'NekoHina', 'CheesedFries', 'isaiahbolton', 'JOSHUA', 'Cirdec', 'PesawatSederhana', 'RocioAraujo', 'AnggaKecap', 'ToraLoaadiing', 'FlorianN', 'rizkyrilos']\n",
      "reggaeton ------------\n",
      "['DyAze', 'LennyTavrez']\n",
      "country ------------\n",
      "['Zedd', '5MbStudio', '8DAUDIO']\n",
      "disco ------------\n",
      "['futureclassic']\n",
      "alternativerock ------------\n",
      "['PanicAtTheDisco', 'DoghouseRadio', 'entai']\n",
      "dubstep ------------\n",
      "['VirtualRiot', 'cusdiscipline', 'Deadbeats', 'Wakaan', 'KDrew', 'AdventureClub', 'ChampagneDrip', 'Kompany', 'Subtronics', 'SubDocta', 'Detrace']\n",
      "drumbass ------------\n",
      "['EATBRAIN', 'cusstickybud', 'signal', 'NoisiaRadio']\n",
      "metal ------------\n",
      "['RoadrunnerUSA']\n",
      "folksingersongwriter ------------\n",
      "['NettwerkMusicGroup', 'RexOrangeCounty']\n",
      "indie ------------\n",
      "['CigarettesAfterSex']\n"
     ]
    }
   ],
   "source": [
    "for i in genList:\n",
    "   print(i,'------------')\n",
    "   print(pd.unique(org_data[org_data['Genre'] == i ]['Name']).tolist())"
   ]
  },
  {
   "cell_type": "code",
   "execution_count": 22,
   "metadata": {},
   "outputs": [
    {
     "data": {
      "text/html": [
       "<div>\n",
       "<style scoped>\n",
       "    .dataframe tbody tr th:only-of-type {\n",
       "        vertical-align: middle;\n",
       "    }\n",
       "\n",
       "    .dataframe tbody tr th {\n",
       "        vertical-align: top;\n",
       "    }\n",
       "\n",
       "    .dataframe thead th {\n",
       "        text-align: right;\n",
       "    }\n",
       "</style>\n",
       "<table border=\"1\" class=\"dataframe\">\n",
       "  <thead>\n",
       "    <tr style=\"text-align: right;\">\n",
       "      <th></th>\n",
       "      <th>Unique_ID</th>\n",
       "      <th>Name</th>\n",
       "      <th>Genre</th>\n",
       "      <th>Country</th>\n",
       "      <th>Song_Name</th>\n",
       "      <th>Timestamp</th>\n",
       "      <th>Views</th>\n",
       "      <th>Comments</th>\n",
       "      <th>Likes</th>\n",
       "      <th>Popularity</th>\n",
       "      <th>Followers</th>\n",
       "    </tr>\n",
       "  </thead>\n",
       "  <tbody>\n",
       "  </tbody>\n",
       "</table>\n",
       "</div>"
      ],
      "text/plain": [
       "Empty DataFrame\n",
       "Columns: [Unique_ID, Name, Genre, Country, Song_Name, Timestamp, Views, Comments, Likes, Popularity, Followers]\n",
       "Index: []"
      ]
     },
     "execution_count": 22,
     "metadata": {},
     "output_type": "execute_result"
    }
   ],
   "source": [
    "org_data[pd.isnull(org_data['Name'])]"
   ]
  },
  {
   "cell_type": "markdown",
   "metadata": {},
   "source": [
    "# Convert TimeStamp to days"
   ]
  },
  {
   "cell_type": "code",
   "execution_count": 23,
   "metadata": {},
   "outputs": [],
   "source": [
    "def numOfDays(date1): \n",
    "    datetime_object = datetime.strptime(date1, '%Y-%m-%d %H:%M:%S.%f')\n",
    "    return (datetime.now()-datetime_object).days"
   ]
  },
  {
   "cell_type": "code",
   "execution_count": 24,
   "metadata": {},
   "outputs": [],
   "source": [
    "org_data['Timestamp1'] = org_data['Timestamp'].transform(lambda x : numOfDays(x));"
   ]
  },
  {
   "cell_type": "code",
   "execution_count": 25,
   "metadata": {},
   "outputs": [],
   "source": [
    "org_data['Timestamp'] = org_data['Timestamp'].transform(lambda x : pd.Timestamp(x));"
   ]
  },
  {
   "cell_type": "markdown",
   "metadata": {},
   "source": [
    "# Converting String to Int"
   ]
  },
  {
   "cell_type": "code",
   "execution_count": 26,
   "metadata": {},
   "outputs": [],
   "source": [
    "def replaceUnit(val):\n",
    "    if(val.find('K') != -1):\n",
    "        return val.replace('K', ('000' if val.find('.') == -1 else '00'));\n",
    "    elif(val.find('M') != -1):\n",
    "        return val.replace('M','000000' if val.find('.') == -1 else '00000');\n",
    "    else:\n",
    "        return val"
   ]
  },
  {
   "cell_type": "code",
   "execution_count": 27,
   "metadata": {},
   "outputs": [],
   "source": [
    "def strToInt(val):\n",
    "    chk = replaceUnit(val)\n",
    "    conStr = re.sub(r'[^0-9]+', '', chk);\n",
    "    return pd.to_numeric(conStr)"
   ]
  },
  {
   "cell_type": "code",
   "execution_count": 28,
   "metadata": {},
   "outputs": [],
   "source": [
    "def converThousandsToUnits(x):\n",
    "    th=x.split('.')\n",
    "    if(len(th) == 1):\n",
    "        dotSeprator = th[0].replace('K','')\n",
    "        return pd.to_numeric(dotSeprator+'000')\n",
    "    else:\n",
    "        dotSeprator = th[1].replace('K','')\n",
    "        return pd.to_numeric(th[0]+dotSeprator+''.ljust(3-len(dotSeprator), '0'))"
   ]
  },
  {
   "cell_type": "code",
   "execution_count": 29,
   "metadata": {},
   "outputs": [],
   "source": [
    "def converMillionToUnits(x):\n",
    "    th=x.split('.')\n",
    "    if(len(th) == 1):\n",
    "        dotSeprator = th[0].replace('M','')\n",
    "        return pd.to_numeric(dotSeprator+'000000')\n",
    "    else:\n",
    "        dotSeprator = th[1].replace('M','')\n",
    "        return pd.to_numeric(th[0]+dotSeprator+''.ljust(6-len(dotSeprator), '0'))"
   ]
  },
  {
   "cell_type": "code",
   "execution_count": 30,
   "metadata": {},
   "outputs": [],
   "source": [
    "def convertObjectToInt(x):\n",
    "    if(not re.compile(',') .search(x) == None):\n",
    "        return pd.to_numeric(x.replace(',',''))\n",
    "    elif(not re.compile('K') .search(x) == None):\n",
    "        return converThousandsToUnits(x)\n",
    "    elif(not re.compile('M') .search(x) == None):\n",
    "        return converMillionToUnits(x)\n",
    "    else:\n",
    "        return pd.to_numeric(x) "
   ]
  },
  {
   "cell_type": "code",
   "execution_count": 31,
   "metadata": {},
   "outputs": [],
   "source": [
    "#for i in org_data['Likes'].unique():\n",
    "   # print(i)"
   ]
  },
  {
   "cell_type": "code",
   "execution_count": 32,
   "metadata": {},
   "outputs": [],
   "source": [
    "org_data['Likes'] = org_data['Likes'].transform(lambda x : convertObjectToInt(x));\n",
    "org_data['Popularity'] = org_data['Popularity'].transform(lambda x : convertObjectToInt(x));\n",
    "#org_data['Comments'] = org_data['Popularity'].transform(lambda x : convertObjectToInt(x));"
   ]
  },
  {
   "cell_type": "code",
   "execution_count": 33,
   "metadata": {},
   "outputs": [
    {
     "data": {
      "text/plain": [
       "True"
      ]
     },
     "execution_count": 33,
     "metadata": {},
     "output_type": "execute_result"
    }
   ],
   "source": [
    "isinstance(14017.0, float)"
   ]
  },
  {
   "cell_type": "code",
   "execution_count": 34,
   "metadata": {},
   "outputs": [
    {
     "name": "stdout",
     "output_type": "stream",
     "text": [
      "<class 'pandas.core.frame.DataFrame'>\n",
      "Int64Index: 98073 entries, 0 to 19614\n",
      "Data columns (total 12 columns):\n",
      "Unique_ID     98073 non-null int64\n",
      "Name          98073 non-null object\n",
      "Genre         98073 non-null object\n",
      "Country       98073 non-null object\n",
      "Song_Name     98072 non-null object\n",
      "Timestamp     98073 non-null datetime64[ns]\n",
      "Views         78458 non-null float64\n",
      "Comments      98073 non-null int64\n",
      "Likes         98073 non-null int64\n",
      "Popularity    98073 non-null int64\n",
      "Followers     98073 non-null int64\n",
      "Timestamp1    98073 non-null int64\n",
      "dtypes: datetime64[ns](1), float64(1), int64(6), object(4)\n",
      "memory usage: 9.7+ MB\n"
     ]
    }
   ],
   "source": [
    "org_data.info()"
   ]
  },
  {
   "cell_type": "code",
   "execution_count": 35,
   "metadata": {},
   "outputs": [
    {
     "data": {
      "text/html": [
       "<div>\n",
       "<style scoped>\n",
       "    .dataframe tbody tr th:only-of-type {\n",
       "        vertical-align: middle;\n",
       "    }\n",
       "\n",
       "    .dataframe tbody tr th {\n",
       "        vertical-align: top;\n",
       "    }\n",
       "\n",
       "    .dataframe thead th {\n",
       "        text-align: right;\n",
       "    }\n",
       "</style>\n",
       "<table border=\"1\" class=\"dataframe\">\n",
       "  <thead>\n",
       "    <tr style=\"text-align: right;\">\n",
       "      <th></th>\n",
       "      <th>Unique_ID</th>\n",
       "      <th>Name</th>\n",
       "      <th>Genre</th>\n",
       "      <th>Country</th>\n",
       "      <th>Song_Name</th>\n",
       "      <th>Timestamp</th>\n",
       "      <th>Views</th>\n",
       "      <th>Comments</th>\n",
       "      <th>Likes</th>\n",
       "      <th>Popularity</th>\n",
       "      <th>Followers</th>\n",
       "      <th>Timestamp1</th>\n",
       "    </tr>\n",
       "  </thead>\n",
       "  <tbody>\n",
       "    <tr>\n",
       "      <th>0</th>\n",
       "      <td>413890</td>\n",
       "      <td>Hardstyle</td>\n",
       "      <td>danceedm</td>\n",
       "      <td>AU</td>\n",
       "      <td>N-Vitral presents BOMBSQUAD - Poison Spitter (...</td>\n",
       "      <td>2018-03-30 15:24:45</td>\n",
       "      <td>14017.0</td>\n",
       "      <td>4</td>\n",
       "      <td>499</td>\n",
       "      <td>97</td>\n",
       "      <td>119563</td>\n",
       "      <td>660</td>\n",
       "    </tr>\n",
       "    <tr>\n",
       "      <th>1</th>\n",
       "      <td>249453</td>\n",
       "      <td>DjAladdin</td>\n",
       "      <td>danceedm</td>\n",
       "      <td>AU</td>\n",
       "      <td>Dj Aladdin - Old School Hip Hop Quick Mix</td>\n",
       "      <td>2016-06-20 05:58:52</td>\n",
       "      <td>1918.0</td>\n",
       "      <td>17</td>\n",
       "      <td>49</td>\n",
       "      <td>17</td>\n",
       "      <td>2141</td>\n",
       "      <td>1308</td>\n",
       "    </tr>\n",
       "    <tr>\n",
       "      <th>2</th>\n",
       "      <td>681116</td>\n",
       "      <td>MaxximizeOnAir</td>\n",
       "      <td>danceedm</td>\n",
       "      <td>AU</td>\n",
       "      <td>Maxximize On Air - Mixed by Blasterjaxx - Epis...</td>\n",
       "      <td>2015-05-08 17:45:59</td>\n",
       "      <td>9668.0</td>\n",
       "      <td>11</td>\n",
       "      <td>312</td>\n",
       "      <td>91</td>\n",
       "      <td>22248</td>\n",
       "      <td>1717</td>\n",
       "    </tr>\n",
       "    <tr>\n",
       "      <th>3</th>\n",
       "      <td>387253</td>\n",
       "      <td>GR6EXPLODE</td>\n",
       "      <td>rbsoul</td>\n",
       "      <td>AU</td>\n",
       "      <td>MC Yago - Tenho Compromisso (DJ R7)</td>\n",
       "      <td>2017-06-08 23:50:03</td>\n",
       "      <td>113036.0</td>\n",
       "      <td>2</td>\n",
       "      <td>2400</td>\n",
       "      <td>76</td>\n",
       "      <td>393655</td>\n",
       "      <td>954</td>\n",
       "    </tr>\n",
       "    <tr>\n",
       "      <th>4</th>\n",
       "      <td>1428029</td>\n",
       "      <td>Tritonal</td>\n",
       "      <td>danceedm</td>\n",
       "      <td>AU</td>\n",
       "      <td>Escape (feat. Steph Jones)</td>\n",
       "      <td>2016-09-17 20:50:19</td>\n",
       "      <td>110024.0</td>\n",
       "      <td>81</td>\n",
       "      <td>3031</td>\n",
       "      <td>699</td>\n",
       "      <td>201030</td>\n",
       "      <td>1218</td>\n",
       "    </tr>\n",
       "  </tbody>\n",
       "</table>\n",
       "</div>"
      ],
      "text/plain": [
       "   Unique_ID            Name     Genre Country  \\\n",
       "0     413890       Hardstyle  danceedm      AU   \n",
       "1     249453       DjAladdin  danceedm      AU   \n",
       "2     681116  MaxximizeOnAir  danceedm      AU   \n",
       "3     387253      GR6EXPLODE    rbsoul      AU   \n",
       "4    1428029        Tritonal  danceedm      AU   \n",
       "\n",
       "                                           Song_Name           Timestamp  \\\n",
       "0  N-Vitral presents BOMBSQUAD - Poison Spitter (... 2018-03-30 15:24:45   \n",
       "1          Dj Aladdin - Old School Hip Hop Quick Mix 2016-06-20 05:58:52   \n",
       "2  Maxximize On Air - Mixed by Blasterjaxx - Epis... 2015-05-08 17:45:59   \n",
       "3                MC Yago - Tenho Compromisso (DJ R7) 2017-06-08 23:50:03   \n",
       "4                         Escape (feat. Steph Jones) 2016-09-17 20:50:19   \n",
       "\n",
       "      Views  Comments  Likes  Popularity  Followers  Timestamp1  \n",
       "0   14017.0         4    499          97     119563         660  \n",
       "1    1918.0        17     49          17       2141        1308  \n",
       "2    9668.0        11    312          91      22248        1717  \n",
       "3  113036.0         2   2400          76     393655         954  \n",
       "4  110024.0        81   3031         699     201030        1218  "
      ]
     },
     "execution_count": 35,
     "metadata": {},
     "output_type": "execute_result"
    }
   ],
   "source": [
    "org_data.head(5)"
   ]
  },
  {
   "cell_type": "code",
   "execution_count": 36,
   "metadata": {},
   "outputs": [
    {
     "data": {
      "text/html": [
       "<div>\n",
       "<style scoped>\n",
       "    .dataframe tbody tr th:only-of-type {\n",
       "        vertical-align: middle;\n",
       "    }\n",
       "\n",
       "    .dataframe tbody tr th {\n",
       "        vertical-align: top;\n",
       "    }\n",
       "\n",
       "    .dataframe thead th {\n",
       "        text-align: right;\n",
       "    }\n",
       "</style>\n",
       "<table border=\"1\" class=\"dataframe\">\n",
       "  <thead>\n",
       "    <tr style=\"text-align: right;\">\n",
       "      <th></th>\n",
       "      <th>Unique_ID</th>\n",
       "      <th>Views</th>\n",
       "      <th>Comments</th>\n",
       "      <th>Likes</th>\n",
       "      <th>Popularity</th>\n",
       "      <th>Followers</th>\n",
       "      <th>Timestamp1</th>\n",
       "    </tr>\n",
       "  </thead>\n",
       "  <tbody>\n",
       "    <tr>\n",
       "      <th>Unique_ID</th>\n",
       "      <td>1.000000</td>\n",
       "      <td>-0.008956</td>\n",
       "      <td>-0.008331</td>\n",
       "      <td>-0.011830</td>\n",
       "      <td>-0.007864</td>\n",
       "      <td>-0.026702</td>\n",
       "      <td>0.057301</td>\n",
       "    </tr>\n",
       "    <tr>\n",
       "      <th>Views</th>\n",
       "      <td>-0.008956</td>\n",
       "      <td>1.000000</td>\n",
       "      <td>0.679104</td>\n",
       "      <td>0.980132</td>\n",
       "      <td>0.834635</td>\n",
       "      <td>0.103603</td>\n",
       "      <td>0.008618</td>\n",
       "    </tr>\n",
       "    <tr>\n",
       "      <th>Comments</th>\n",
       "      <td>-0.008331</td>\n",
       "      <td>0.679104</td>\n",
       "      <td>1.000000</td>\n",
       "      <td>0.636890</td>\n",
       "      <td>0.628266</td>\n",
       "      <td>0.081608</td>\n",
       "      <td>0.007069</td>\n",
       "    </tr>\n",
       "    <tr>\n",
       "      <th>Likes</th>\n",
       "      <td>-0.011830</td>\n",
       "      <td>0.980132</td>\n",
       "      <td>0.636890</td>\n",
       "      <td>1.000000</td>\n",
       "      <td>0.867272</td>\n",
       "      <td>0.110679</td>\n",
       "      <td>0.004400</td>\n",
       "    </tr>\n",
       "    <tr>\n",
       "      <th>Popularity</th>\n",
       "      <td>-0.007864</td>\n",
       "      <td>0.834635</td>\n",
       "      <td>0.628266</td>\n",
       "      <td>0.867272</td>\n",
       "      <td>1.000000</td>\n",
       "      <td>0.136891</td>\n",
       "      <td>0.041489</td>\n",
       "    </tr>\n",
       "    <tr>\n",
       "      <th>Followers</th>\n",
       "      <td>-0.026702</td>\n",
       "      <td>0.103603</td>\n",
       "      <td>0.081608</td>\n",
       "      <td>0.110679</td>\n",
       "      <td>0.136891</td>\n",
       "      <td>1.000000</td>\n",
       "      <td>0.179152</td>\n",
       "    </tr>\n",
       "    <tr>\n",
       "      <th>Timestamp1</th>\n",
       "      <td>0.057301</td>\n",
       "      <td>0.008618</td>\n",
       "      <td>0.007069</td>\n",
       "      <td>0.004400</td>\n",
       "      <td>0.041489</td>\n",
       "      <td>0.179152</td>\n",
       "      <td>1.000000</td>\n",
       "    </tr>\n",
       "  </tbody>\n",
       "</table>\n",
       "</div>"
      ],
      "text/plain": [
       "            Unique_ID     Views  Comments     Likes  Popularity  Followers  \\\n",
       "Unique_ID    1.000000 -0.008956 -0.008331 -0.011830   -0.007864  -0.026702   \n",
       "Views       -0.008956  1.000000  0.679104  0.980132    0.834635   0.103603   \n",
       "Comments    -0.008331  0.679104  1.000000  0.636890    0.628266   0.081608   \n",
       "Likes       -0.011830  0.980132  0.636890  1.000000    0.867272   0.110679   \n",
       "Popularity  -0.007864  0.834635  0.628266  0.867272    1.000000   0.136891   \n",
       "Followers   -0.026702  0.103603  0.081608  0.110679    0.136891   1.000000   \n",
       "Timestamp1   0.057301  0.008618  0.007069  0.004400    0.041489   0.179152   \n",
       "\n",
       "            Timestamp1  \n",
       "Unique_ID     0.057301  \n",
       "Views         0.008618  \n",
       "Comments      0.007069  \n",
       "Likes         0.004400  \n",
       "Popularity    0.041489  \n",
       "Followers     0.179152  \n",
       "Timestamp1    1.000000  "
      ]
     },
     "execution_count": 36,
     "metadata": {},
     "output_type": "execute_result"
    }
   ],
   "source": [
    "org_data.corr()"
   ]
  },
  {
   "cell_type": "code",
   "execution_count": 37,
   "metadata": {},
   "outputs": [
    {
     "data": {
      "text/plain": [
       "array(['N-Vitral presents BOMBSQUAD - Poison Spitter (Snakepit 2018 Anthem)',\n",
       "       'Dj Aladdin - Old School Hip Hop Quick Mix',\n",
       "       'Maxximize On Air - Mixed by Blasterjaxx - Episode #048', ...,\n",
       "       'Vermont - Paradigma (Wassermann Krautramatrik Mix)',\n",
       "       'Yheti & Metapod - Ominous Combo', 'Devin Wild - Everlasting'],\n",
       "      dtype=object)"
      ]
     },
     "execution_count": 37,
     "metadata": {},
     "output_type": "execute_result"
    }
   ],
   "source": [
    "org_data['Song_Name'].unique()"
   ]
  },
  {
   "cell_type": "code",
   "execution_count": 38,
   "metadata": {},
   "outputs": [
    {
     "data": {
      "text/html": [
       "<div>\n",
       "<style scoped>\n",
       "    .dataframe tbody tr th:only-of-type {\n",
       "        vertical-align: middle;\n",
       "    }\n",
       "\n",
       "    .dataframe tbody tr th {\n",
       "        vertical-align: top;\n",
       "    }\n",
       "\n",
       "    .dataframe thead th {\n",
       "        text-align: right;\n",
       "    }\n",
       "</style>\n",
       "<table border=\"1\" class=\"dataframe\">\n",
       "  <thead>\n",
       "    <tr style=\"text-align: right;\">\n",
       "      <th></th>\n",
       "      <th>count</th>\n",
       "      <th>mean</th>\n",
       "      <th>std</th>\n",
       "      <th>min</th>\n",
       "      <th>25%</th>\n",
       "      <th>50%</th>\n",
       "      <th>75%</th>\n",
       "      <th>max</th>\n",
       "    </tr>\n",
       "  </thead>\n",
       "  <tbody>\n",
       "    <tr>\n",
       "      <th>Unique_ID</th>\n",
       "      <td>98073.0</td>\n",
       "      <td>745877.326644</td>\n",
       "      <td>4.807398e+05</td>\n",
       "      <td>0.0</td>\n",
       "      <td>320509.0</td>\n",
       "      <td>661898.0</td>\n",
       "      <td>1176694.00</td>\n",
       "      <td>1570012.0</td>\n",
       "    </tr>\n",
       "    <tr>\n",
       "      <th>Views</th>\n",
       "      <td>78458.0</td>\n",
       "      <td>546968.638992</td>\n",
       "      <td>3.883085e+06</td>\n",
       "      <td>0.0</td>\n",
       "      <td>6216.5</td>\n",
       "      <td>25386.5</td>\n",
       "      <td>120134.25</td>\n",
       "      <td>199404980.0</td>\n",
       "    </tr>\n",
       "    <tr>\n",
       "      <th>Comments</th>\n",
       "      <td>98073.0</td>\n",
       "      <td>115.987591</td>\n",
       "      <td>7.564168e+02</td>\n",
       "      <td>0.0</td>\n",
       "      <td>1.0</td>\n",
       "      <td>12.0</td>\n",
       "      <td>61.00</td>\n",
       "      <td>104082.0</td>\n",
       "    </tr>\n",
       "    <tr>\n",
       "      <th>Likes</th>\n",
       "      <td>98073.0</td>\n",
       "      <td>8849.621017</td>\n",
       "      <td>5.261455e+04</td>\n",
       "      <td>0.0</td>\n",
       "      <td>131.0</td>\n",
       "      <td>667.0</td>\n",
       "      <td>2850.00</td>\n",
       "      <td>2770000.0</td>\n",
       "    </tr>\n",
       "    <tr>\n",
       "      <th>Popularity</th>\n",
       "      <td>98073.0</td>\n",
       "      <td>928.468100</td>\n",
       "      <td>4.858023e+03</td>\n",
       "      <td>0.0</td>\n",
       "      <td>13.0</td>\n",
       "      <td>87.0</td>\n",
       "      <td>405.00</td>\n",
       "      <td>324000.0</td>\n",
       "    </tr>\n",
       "    <tr>\n",
       "      <th>Followers</th>\n",
       "      <td>98073.0</td>\n",
       "      <td>479673.973611</td>\n",
       "      <td>1.168391e+06</td>\n",
       "      <td>1.0</td>\n",
       "      <td>17784.0</td>\n",
       "      <td>88927.0</td>\n",
       "      <td>393655.00</td>\n",
       "      <td>9789123.0</td>\n",
       "    </tr>\n",
       "    <tr>\n",
       "      <th>Timestamp1</th>\n",
       "      <td>98073.0</td>\n",
       "      <td>1322.531614</td>\n",
       "      <td>1.021570e+03</td>\n",
       "      <td>328.0</td>\n",
       "      <td>626.0</td>\n",
       "      <td>1094.0</td>\n",
       "      <td>1731.00</td>\n",
       "      <td>17184.0</td>\n",
       "    </tr>\n",
       "  </tbody>\n",
       "</table>\n",
       "</div>"
      ],
      "text/plain": [
       "              count           mean           std    min       25%       50%  \\\n",
       "Unique_ID   98073.0  745877.326644  4.807398e+05    0.0  320509.0  661898.0   \n",
       "Views       78458.0  546968.638992  3.883085e+06    0.0    6216.5   25386.5   \n",
       "Comments    98073.0     115.987591  7.564168e+02    0.0       1.0      12.0   \n",
       "Likes       98073.0    8849.621017  5.261455e+04    0.0     131.0     667.0   \n",
       "Popularity  98073.0     928.468100  4.858023e+03    0.0      13.0      87.0   \n",
       "Followers   98073.0  479673.973611  1.168391e+06    1.0   17784.0   88927.0   \n",
       "Timestamp1  98073.0    1322.531614  1.021570e+03  328.0     626.0    1094.0   \n",
       "\n",
       "                   75%          max  \n",
       "Unique_ID   1176694.00    1570012.0  \n",
       "Views        120134.25  199404980.0  \n",
       "Comments         61.00     104082.0  \n",
       "Likes          2850.00    2770000.0  \n",
       "Popularity      405.00     324000.0  \n",
       "Followers    393655.00    9789123.0  \n",
       "Timestamp1     1731.00      17184.0  "
      ]
     },
     "execution_count": 38,
     "metadata": {},
     "output_type": "execute_result"
    }
   ],
   "source": [
    "org_data.describe().T"
   ]
  },
  {
   "cell_type": "code",
   "execution_count": 39,
   "metadata": {},
   "outputs": [],
   "source": [
    "#pd.crosstab(org_train[\"Likes\"],org_train[\"Views\"]).div(pd.crosstab(org_train[\"Likes\"],org_train[\"Views\"]).sum(1), axis =0).plot(kind = \"bar\", stacked= True)"
   ]
  },
  {
   "cell_type": "code",
   "execution_count": 40,
   "metadata": {},
   "outputs": [],
   "source": [
    "#pd.crosstab(org_train[\"Popularity\"],org_train[\"Views\"]).div(pd.crosstab(org_train[\"Popularity\"],org_train[\"Views\"]).sum(1), axis =0).plot(kind = \"bar\", stacked= True)"
   ]
  },
  {
   "cell_type": "code",
   "execution_count": 41,
   "metadata": {},
   "outputs": [
    {
     "data": {
      "text/plain": [
       "Index(['Unique_ID', 'Name', 'Genre', 'Country', 'Song_Name', 'Timestamp',\n",
       "       'Views', 'Comments', 'Likes', 'Popularity', 'Followers', 'Timestamp1'],\n",
       "      dtype='object')"
      ]
     },
     "execution_count": 41,
     "metadata": {},
     "output_type": "execute_result"
    }
   ],
   "source": [
    "org_data.columns"
   ]
  },
  {
   "cell_type": "code",
   "execution_count": 42,
   "metadata": {},
   "outputs": [],
   "source": [
    "org_data.drop(columns=['Song_Name','Unique_ID','Timestamp','Country','Timestamp1','Followers'], inplace=True);"
   ]
  },
  {
   "cell_type": "code",
   "execution_count": 43,
   "metadata": {},
   "outputs": [
    {
     "data": {
      "text/plain": [
       "(98073, 6)"
      ]
     },
     "execution_count": 43,
     "metadata": {},
     "output_type": "execute_result"
    }
   ],
   "source": [
    "org_data.shape"
   ]
  },
  {
   "cell_type": "code",
   "execution_count": 44,
   "metadata": {},
   "outputs": [
    {
     "data": {
      "text/plain": [
       "<matplotlib.axes._subplots.AxesSubplot at 0x25bcb02bb38>"
      ]
     },
     "execution_count": 44,
     "metadata": {},
     "output_type": "execute_result"
    },
    {
     "data": {
      "image/png": "[encoded data removed]",
      "text/plain": [
       "<Figure size 432x288 with 2 Axes>"
      ]
     },
     "metadata": {},
     "output_type": "display_data"
    }
   ],
   "source": [
    "sns.heatmap(org_data.corr())"
   ]
  },
  {
   "cell_type": "code",
   "execution_count": 45,
   "metadata": {},
   "outputs": [],
   "source": [
    "cat_col = org_data.select_dtypes(exclude=np.number)\n",
    "num_col = org_data.select_dtypes(include=np.number)"
   ]
  },
  {
   "cell_type": "code",
   "execution_count": 46,
   "metadata": {},
   "outputs": [],
   "source": [
    "one_hot = pd.get_dummies(cat_col)"
   ]
  },
  {
   "cell_type": "code",
   "execution_count": 47,
   "metadata": {},
   "outputs": [],
   "source": [
    "org_mod = pd.concat([one_hot,num_col], axis='columns');"
   ]
  },
  {
   "cell_type": "code",
   "execution_count": 48,
   "metadata": {},
   "outputs": [
    {
     "data": {
      "text/html": [
       "<div>\n",
       "<style scoped>\n",
       "    .dataframe tbody tr th:only-of-type {\n",
       "        vertical-align: middle;\n",
       "    }\n",
       "\n",
       "    .dataframe tbody tr th {\n",
       "        vertical-align: top;\n",
       "    }\n",
       "\n",
       "    .dataframe thead th {\n",
       "        text-align: right;\n",
       "    }\n",
       "</style>\n",
       "<table border=\"1\" class=\"dataframe\">\n",
       "  <thead>\n",
       "    <tr style=\"text-align: right;\">\n",
       "      <th></th>\n",
       "      <th>Name_12thPlanet</th>\n",
       "      <th>Name_16yrold</th>\n",
       "      <th>Name_1788L</th>\n",
       "      <th>Name_1TakeJay</th>\n",
       "      <th>Name_21Savage</th>\n",
       "      <th>Name_21plohoi</th>\n",
       "      <th>Name_4i20</th>\n",
       "      <th>Name_5MbStudio</th>\n",
       "      <th>Name_6IX9INE</th>\n",
       "      <th>Name_6LACK</th>\n",
       "      <th>...</th>\n",
       "      <th>Genre_metal</th>\n",
       "      <th>Genre_pop</th>\n",
       "      <th>Genre_rbsoul</th>\n",
       "      <th>Genre_reggaeton</th>\n",
       "      <th>Genre_rock</th>\n",
       "      <th>Genre_trap</th>\n",
       "      <th>Views</th>\n",
       "      <th>Comments</th>\n",
       "      <th>Likes</th>\n",
       "      <th>Popularity</th>\n",
       "    </tr>\n",
       "  </thead>\n",
       "  <tbody>\n",
       "    <tr>\n",
       "      <th>0</th>\n",
       "      <td>0</td>\n",
       "      <td>0</td>\n",
       "      <td>0</td>\n",
       "      <td>0</td>\n",
       "      <td>0</td>\n",
       "      <td>0</td>\n",
       "      <td>0</td>\n",
       "      <td>0</td>\n",
       "      <td>0</td>\n",
       "      <td>0</td>\n",
       "      <td>...</td>\n",
       "      <td>0</td>\n",
       "      <td>0</td>\n",
       "      <td>0</td>\n",
       "      <td>0</td>\n",
       "      <td>0</td>\n",
       "      <td>0</td>\n",
       "      <td>14017.0</td>\n",
       "      <td>4</td>\n",
       "      <td>499</td>\n",
       "      <td>97</td>\n",
       "    </tr>\n",
       "    <tr>\n",
       "      <th>1</th>\n",
       "      <td>0</td>\n",
       "      <td>0</td>\n",
       "      <td>0</td>\n",
       "      <td>0</td>\n",
       "      <td>0</td>\n",
       "      <td>0</td>\n",
       "      <td>0</td>\n",
       "      <td>0</td>\n",
       "      <td>0</td>\n",
       "      <td>0</td>\n",
       "      <td>...</td>\n",
       "      <td>0</td>\n",
       "      <td>0</td>\n",
       "      <td>0</td>\n",
       "      <td>0</td>\n",
       "      <td>0</td>\n",
       "      <td>0</td>\n",
       "      <td>1918.0</td>\n",
       "      <td>17</td>\n",
       "      <td>49</td>\n",
       "      <td>17</td>\n",
       "    </tr>\n",
       "    <tr>\n",
       "      <th>2</th>\n",
       "      <td>0</td>\n",
       "      <td>0</td>\n",
       "      <td>0</td>\n",
       "      <td>0</td>\n",
       "      <td>0</td>\n",
       "      <td>0</td>\n",
       "      <td>0</td>\n",
       "      <td>0</td>\n",
       "      <td>0</td>\n",
       "      <td>0</td>\n",
       "      <td>...</td>\n",
       "      <td>0</td>\n",
       "      <td>0</td>\n",
       "      <td>0</td>\n",
       "      <td>0</td>\n",
       "      <td>0</td>\n",
       "      <td>0</td>\n",
       "      <td>9668.0</td>\n",
       "      <td>11</td>\n",
       "      <td>312</td>\n",
       "      <td>91</td>\n",
       "    </tr>\n",
       "    <tr>\n",
       "      <th>3</th>\n",
       "      <td>0</td>\n",
       "      <td>0</td>\n",
       "      <td>0</td>\n",
       "      <td>0</td>\n",
       "      <td>0</td>\n",
       "      <td>0</td>\n",
       "      <td>0</td>\n",
       "      <td>0</td>\n",
       "      <td>0</td>\n",
       "      <td>0</td>\n",
       "      <td>...</td>\n",
       "      <td>0</td>\n",
       "      <td>0</td>\n",
       "      <td>1</td>\n",
       "      <td>0</td>\n",
       "      <td>0</td>\n",
       "      <td>0</td>\n",
       "      <td>113036.0</td>\n",
       "      <td>2</td>\n",
       "      <td>2400</td>\n",
       "      <td>76</td>\n",
       "    </tr>\n",
       "    <tr>\n",
       "      <th>4</th>\n",
       "      <td>0</td>\n",
       "      <td>0</td>\n",
       "      <td>0</td>\n",
       "      <td>0</td>\n",
       "      <td>0</td>\n",
       "      <td>0</td>\n",
       "      <td>0</td>\n",
       "      <td>0</td>\n",
       "      <td>0</td>\n",
       "      <td>0</td>\n",
       "      <td>...</td>\n",
       "      <td>0</td>\n",
       "      <td>0</td>\n",
       "      <td>0</td>\n",
       "      <td>0</td>\n",
       "      <td>0</td>\n",
       "      <td>0</td>\n",
       "      <td>110024.0</td>\n",
       "      <td>81</td>\n",
       "      <td>3031</td>\n",
       "      <td>699</td>\n",
       "    </tr>\n",
       "  </tbody>\n",
       "</table>\n",
       "<p>5 rows × 1243 columns</p>\n",
       "</div>"
      ],
      "text/plain": [
       "   Name_12thPlanet  Name_16yrold  Name_1788L  Name_1TakeJay  Name_21Savage  \\\n",
       "0                0             0           0              0              0   \n",
       "1                0             0           0              0              0   \n",
       "2                0             0           0              0              0   \n",
       "3                0             0           0              0              0   \n",
       "4                0             0           0              0              0   \n",
       "\n",
       "   Name_21plohoi  Name_4i20  Name_5MbStudio  Name_6IX9INE  Name_6LACK  ...  \\\n",
       "0              0          0               0             0           0  ...   \n",
       "1              0          0               0             0           0  ...   \n",
       "2              0          0               0             0           0  ...   \n",
       "3              0          0               0             0           0  ...   \n",
       "4              0          0               0             0           0  ...   \n",
       "\n",
       "   Genre_metal  Genre_pop  Genre_rbsoul  Genre_reggaeton  Genre_rock  \\\n",
       "0            0          0             0                0           0   \n",
       "1            0          0             0                0           0   \n",
       "2            0          0             0                0           0   \n",
       "3            0          0             1                0           0   \n",
       "4            0          0             0                0           0   \n",
       "\n",
       "   Genre_trap     Views  Comments  Likes  Popularity  \n",
       "0           0   14017.0         4    499          97  \n",
       "1           0    1918.0        17     49          17  \n",
       "2           0    9668.0        11    312          91  \n",
       "3           0  113036.0         2   2400          76  \n",
       "4           0  110024.0        81   3031         699  \n",
       "\n",
       "[5 rows x 1243 columns]"
      ]
     },
     "execution_count": 48,
     "metadata": {},
     "output_type": "execute_result"
    }
   ],
   "source": [
    "org_mod.head(5)"
   ]
  },
  {
   "cell_type": "code",
   "execution_count": 49,
   "metadata": {},
   "outputs": [
    {
     "name": "stdout",
     "output_type": "stream",
     "text": [
      "(98073, 1243) (78458, 1243) (19615, 1243)\n"
     ]
    }
   ],
   "source": [
    "org_mod_train= org_mod[org_mod['Views'].notna()]\n",
    "org_mod_test= org_mod[org_mod['Views'].isna()]\n",
    "print(org_mod.shape,org_mod_train.shape,org_mod_test.shape)"
   ]
  },
  {
   "cell_type": "code",
   "execution_count": 50,
   "metadata": {},
   "outputs": [],
   "source": [
    "org_mod_train_x = org_mod_train.drop(columns='Views')\n",
    "org_mod_train_y = org_mod_train['Views']\n",
    "x_train_split,x_test_split,y_train_split,y_test_split=train_test_split(org_mod_train_x,org_mod_train_y,test_size=0.3, random_state = 0)\n",
    "org_mod_test_x = org_mod_test.drop(columns='Views')"
   ]
  },
  {
   "cell_type": "code",
   "execution_count": 51,
   "metadata": {},
   "outputs": [],
   "source": [
    "Rmse_score = [];\n",
    "AlgorthimName = [];\n",
    "train_rmse = [];\n",
    "test_rmse = [];\n",
    "def model_fit(model,x_train,y_train,x_testSplit,y_testSplit,x_test,algorthimName,fileName,paramName,paramValue,plot=False,exportFile = False):\n",
    "    model.fit(x_train,y_train)\n",
    "    y_train_predicted = model.predict(x_train);\n",
    "    y_test_split_pred = model.predict(x_testSplit)\n",
    "    y_test_predicted = model.predict(x_test);\n",
    "    print(\" R2 Score :\",r2_score(y_train,y_train_predicted))\n",
    "    print(\" R2 Score Test:\",r2_score(y_testSplit,y_test_split_pred))\n",
    "    rm_Score = np.sqrt(mean_squared_error(y_train,y_train_predicted));\n",
    "    rm_ScoreTest = np.sqrt(mean_squared_error(y_testSplit,y_test_split_pred));\n",
    "    model.sco\n",
    "    train_rmse.append(rm_Score)\n",
    "    test_rmse.append(rm_ScoreTest)\n",
    "    print('RMSE Score of {}'.format(algorthimName), rm_Score)\n",
    "    print('RMSE Score of Test {}'.format(algorthimName), rm_ScoreTest)\n",
    "#     Rmse_score.append(rm_Score)\n",
    "#     AlgorthimName.append(algorthimName)\n",
    "    if(plot):\n",
    "        resut = pd.DataFrame([paramValue,train_rmse,test_rmse]).T\n",
    "        resut.columns = [paramName, \"train\", \"test\"]\n",
    "        resut.plot(x = paramName,y=[\"train\",\"test\"])\n",
    "    if(exportFile):\n",
    "        y_test_predicted_df = pd.DataFrame(y_test_predicted,columns=[\"Views\"])\n",
    "        result = pd.concat([org_test[['Unique_ID']],y_test_predicted_df],axis=1)\n",
    "        result.to_excel(fileName,index=False)"
   ]
  },
  {
   "cell_type": "code",
   "execution_count": 52,
   "metadata": {},
   "outputs": [],
   "source": [
    "def model_fit_old(model,x_train,y_train,x_test,algorthimName,fileName,exportFile = False):\n",
    "    model.fit(x_train,y_train)\n",
    "    y_train_predicted = model.predict(x_train);\n",
    "    y_test_predicted = model.predict(x_test);\n",
    "    print(\" R2 Score :\",r2_score(y_train,y_train_predicted))\n",
    "#     print(\" Train Accuracy :\",accuracy_score(y_train,y_train_predicted))\n",
    "#     print(\" Test Accuracy :\",accuracy_score(y_test,y_test_predicted))\n",
    "    #Train_accuracy.append(accuracy_score(y_train,y_train_predicted))\n",
    "    #Test_accuracy.append(accuracy_score(y_test,y_test_predicted))\n",
    "    rm_Score = np.sqrt(mean_squared_error(y_train,y_train_predicted));\n",
    "    print('RMSE Score of {}'.format(algorthimName), rm_Score)\n",
    "#     Rmse_score.append(rm_Score)\n",
    "#     AlgorthimName.append(algorthimName)\n",
    "    if(exportFile):\n",
    "        y_test_predicted_df = pd.DataFrame(y_test_predicted,columns=[\"Views\"])\n",
    "        result = pd.concat([org_test[['Unique_ID']],y_test_predicted_df],axis=1)\n",
    "        result.to_excel(fileName,index=False)"
   ]
  },
  {
   "cell_type": "markdown",
   "metadata": {},
   "source": [
    "# linear Regression \n",
    "and Regularization but no scaling"
   ]
  },
  {
   "cell_type": "code",
   "execution_count": 54,
   "metadata": {},
   "outputs": [],
   "source": [
    "linear = LinearRegression()\n",
    "#model_fit_old(linear,org_mod_train_x,org_mod_train_y,org_mod_test_x,'Linear Regression','linear2.xlsx')\n",
    "#model_fit(linear,x_train_split,y_train_split,x_test_split,y_test_split,org_mod_test_x,'Linear Regression','linear1.xlsx','','')"
   ]
  },
  {
   "cell_type": "code",
   "execution_count": null,
   "metadata": {},
   "outputs": [],
   "source": [
    "#lasso = Lasso()\n",
    "#model_fit(lasso,org_mod_train_x,org_mod_train_y,org_mod_test_x,'Lasso Linear Regression','lasso.xlsx')"
   ]
  },
  {
   "cell_type": "code",
   "execution_count": null,
   "metadata": {},
   "outputs": [],
   "source": [
    "#ridge = Ridge()\n",
    "#model_fit(ridge,org_mod_train_x,org_mod_train_y,org_mod_test_x,'Ridge Linear Regression','ridge.xlsx')"
   ]
  },
  {
   "cell_type": "code",
   "execution_count": null,
   "metadata": {},
   "outputs": [],
   "source": [
    "#elastic = ElasticNet()\n",
    "#model_fit(elastic,org_mod_train_x,org_mod_train_y,org_mod_test_x,'elastic Linear Regression','elstic.xlsx')"
   ]
  },
  {
   "cell_type": "code",
   "execution_count": null,
   "metadata": {},
   "outputs": [],
   "source": [
    "#poly = PolynomialFeatures()\n",
    "#poly_train_x = poly.fit_transform(org_mod_train_x)\n",
    "#poly_test_x = poly.fit_transform(org_mod_test_x)\n",
    "#linear = LinearRegression()\n",
    "#model_fit_poly(linear,poly_train_x,org_mod_train_y,poly_test_x,'Polynomial','polynomial.xlsx')"
   ]
  },
  {
   "cell_type": "markdown",
   "metadata": {},
   "source": [
    "# OLS Ordinary Least Square"
   ]
  },
  {
   "cell_type": "code",
   "execution_count": 55,
   "metadata": {},
   "outputs": [
    {
     "name": "stdout",
     "output_type": "stream",
     "text": [
      "RMSE Score of OLS 646532.5327289952\n"
     ]
    }
   ],
   "source": [
    "olsModel = sm.OLS(org_mod_train_y, org_mod_train_x).fit()\n",
    "y_train_pred = olsModel.predict(org_mod_train_x)\n",
    "y_test_pred = olsModel.predict(org_mod_test_x)\n",
    "rm_Score = np.sqrt(mean_squared_error(org_mod_train_y,y_train_pred));\n",
    "print('RMSE Score of OLS', rm_Score)"
   ]
  },
  {
   "cell_type": "markdown",
   "metadata": {},
   "source": [
    "# Gradient Descent"
   ]
  },
  {
   "cell_type": "code",
   "execution_count": null,
   "metadata": {},
   "outputs": [],
   "source": [
    "#sgd = SGDRegressor()\n",
    "#model_fit(sgd,org_mod_train_x,org_mod_train_y,org_mod_test_x,'Gradient Descent','sgd.xlsx')"
   ]
  },
  {
   "cell_type": "markdown",
   "metadata": {},
   "source": [
    "# Random Forest"
   ]
  },
  {
   "cell_type": "code",
   "execution_count": null,
   "metadata": {
    "scrolled": true
   },
   "outputs": [],
   "source": [
    "rnd = RandomForestRegressor();\n",
    "#model_fit_old(rnd,org_mod_train_x,org_mod_train_y,org_mod_test_x,'Random Forest','rnd1.xlsx')\n",
    "#model_fit(rnd,x_train_split,y_train_split,x_test_split,y_test_split,org_mod_test_x,'Random Forest','rnd.xlsx','','')"
   ]
  },
  {
   "cell_type": "markdown",
   "metadata": {},
   "source": [
    "# Boosting"
   ]
  },
  {
   "cell_type": "code",
   "execution_count": null,
   "metadata": {},
   "outputs": [],
   "source": [
    "#adaBoost = AdaBoostRegressor()\n",
    "#model_fit(adaBoost,org_mod_train_x,org_mod_train_y,org_mod_test_x,'Ada Boosting','ada.xlsx')"
   ]
  },
  {
   "cell_type": "code",
   "execution_count": null,
   "metadata": {},
   "outputs": [],
   "source": [
    "gauBoost = GradientBoostingRegressor()\n",
    "#model_fit_old(gauBoost,org_mod_train_x,org_mod_train_y,org_mod_test_x,'Graudient Boosting','gdb1.xlsx')\n",
    "#model_fit(gauBoost,x_train_split,y_train_split,x_test_split,y_test_split,org_mod_test_x,'Graudient Boosting','gdb.xlsx','','')"
   ]
  },
  {
   "cell_type": "code",
   "execution_count": null,
   "metadata": {},
   "outputs": [],
   "source": []
  },
  {
   "cell_type": "markdown",
   "metadata": {},
   "source": [
    "# Support Vector Machine"
   ]
  },
  {
   "cell_type": "code",
   "execution_count": null,
   "metadata": {},
   "outputs": [],
   "source": [
    "#svm = SVR(kernel='linear')\n",
    "#model_fit(svm,org_mod_train_x,org_mod_train_y,org_mod_test_x,'SVM','svm.xlsx')"
   ]
  },
  {
   "cell_type": "code",
   "execution_count": null,
   "metadata": {},
   "outputs": [],
   "source": [
    "svmLinear = LinearSVR()\n",
    "#model_fit_old(svmLinear,org_mod_train_x,org_mod_train_y,org_mod_test_x,'SVM Linear','svmLinear.xlsx')\n",
    "#model_fit(svmLinear,x_train_split,y_train_split,x_test_split,y_test_split,org_mod_test_x,'SVM Linear','svmLinear.xlsx','','')"
   ]
  },
  {
   "cell_type": "markdown",
   "metadata": {},
   "source": [
    "# Decision Tree \n",
    "If it criterion = 'mse' no need to apply hyperparameter"
   ]
  },
  {
   "cell_type": "code",
   "execution_count": null,
   "metadata": {},
   "outputs": [],
   "source": [
    "decisionTree = DecisionTreeRegressor(criterion='mse')\n",
    "#model_fit_old(decisionTree,org_mod_train_x,org_mod_train_y,org_mod_test_x,'Decision Tree Regression','decision1.xlsx')\n",
    "#model_fit(decisionTree,x_train_split,y_train_split,x_test_split,y_test_split,org_mod_test_x,'Decision Tree Regression','decision1.xlsx','','')"
   ]
  },
  {
   "cell_type": "code",
   "execution_count": null,
   "metadata": {},
   "outputs": [],
   "source": [
    "learning_rate = [0.1,0.05,0.01,0.001]\n",
    "def check_learn(lRate):\n",
    "    for i in lRate:\n",
    "        print(\"Learning Rate ----------------------- = \",i)\n",
    "        dt = GradientBoostingRegressor(criterion='friedman_mse',learning_rate=i)\n",
    "        model_fit_old(gauBoost,org_mod_train_x,org_mod_train_y,org_mod_test_x,'Graudient Boosting', 'gdb.xlsx');\n",
    "        #model_fit(gauBoost,x_train_split,y_train_split,x_test_split,y_test_split,org_mod_test_x,'Graudient Boosting','gdb.xlsx')\n",
    "#check_learn(learning_rate)       "
   ]
  },
  {
   "cell_type": "code",
   "execution_count": null,
   "metadata": {},
   "outputs": [],
   "source": [
    "n_estimate = [15,20,25,30]\n",
    "def check_dept(max_depth_check):\n",
    "    for i in max_depth_check:\n",
    "        print(\"n_estimate ----------------------- = \",i)\n",
    "        dt = GradientBoostingRegressor(criterion='friedman_mse',learning_rate=0.1,n_estimators=i)\n",
    "        model_fit(gauBoost,x_train_split,y_train_split,x_test_split,y_test_split,org_mod_test_x,'Graudient Boosting','gdb.xlsx')\n",
    "#check_dept(n_estimate)"
   ]
  },
  {
   "cell_type": "code",
   "execution_count": null,
   "metadata": {},
   "outputs": [],
   "source": [
    "max_depth_check = [10,20,30]\n",
    "def check_dept(max_depth_check):\n",
    "    indexi = 0;\n",
    "    for i in max_depth_check:\n",
    "        indexi+= 1;\n",
    "        print(\"Max_ Depth ----------------------- = \",i,indexi)\n",
    "        dt = DecisionTreeRegressor(max_depth=i)\n",
    "        #model_fit_old(rnd,org_mod_train_x,org_mod_train_y,org_mod_test_x,'Random Forest','rnd1.xlsx')\n",
    "        model_fit(dt,x_train_split,y_train_split,x_test_split,y_test_split,org_mod_test_x,'Decision','decisionHyp.xlsx','max_depth_check',max_depth_check, True if(len(max_depth_check) == indexi) else False,False)\n",
    "#check_dept(max_depth_check)"
   ]
  },
  {
   "cell_type": "code",
   "execution_count": null,
   "metadata": {},
   "outputs": [],
   "source": [
    "min_samples_split = [0.1, 1.0, 10, 20]\n",
    "def check_split(min_samples_split):\n",
    "    for i in min_samples_split:\n",
    "        print(\"Minimun Sample split ----------------------- = \",i)\n",
    "        dt = GradientBoostingRegressor(criterion='friedman_mse',min_samples_split=i)\n",
    "        model_fit(gauBoost,x_train_split,y_train_split,x_test_split,y_test_split,org_mod_test_x,'Graudient Boosting','gdb.xlsx')\n",
    "#check_split(min_samples_split)    "
   ]
  },
  {
   "cell_type": "code",
   "execution_count": null,
   "metadata": {},
   "outputs": [],
   "source": [
    "dParams = {\n",
    "    \"criterion\": [\"mse\",'friedman_mse'],\n",
    "    \"min_samples_split\": [10, 20, 40],\n",
    "    \"max_depth\": [8,10,12,14,18,20],\n",
    "    \"min_samples_leaf\": [20, 40, 100],\n",
    "    \"max_leaf_nodes\": [5, 20, 100]\n",
    "    }\n",
    "lasParams  ={\n",
    "    \"alpha\" : [0.1, 0.5, 1],\n",
    "    \"normalize\" : [True]\n",
    "}\n",
    "dt = DecisionTreeRegressor()\n",
    "gridCV = GridSearchCV(dt,dParams,cv=5)\n",
    "gridCV.fit(org_mod_train_x,org_mod_train_y)"
   ]
  },
  {
   "cell_type": "code",
   "execution_count": null,
   "metadata": {},
   "outputs": [],
   "source": []
  }
 ],
 "metadata": {
  "kernelspec": {
   "display_name": "Python 3",
   "language": "python",
   "name": "python3"
  },
  "language_info": {
   "codemirror_mode": {
    "name": "ipython",
    "version": 3
   },
   "file_extension": ".py",
   "mimetype": "text/x-python",
   "name": "python",
   "nbconvert_exporter": "python",
   "pygments_lexer": "ipython3",
   "version": "3.7.3"
  }
 },
 "nbformat": 4,
 "nbformat_minor": 2
}
